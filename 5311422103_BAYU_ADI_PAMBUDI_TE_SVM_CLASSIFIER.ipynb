{
  "cells": [
    {
      "cell_type": "code",
      "execution_count": 55,
      "metadata": {
        "id": "g2UZBiZ5Y-FU"
      },
      "outputs": [],
      "source": [
        "import numpy as np # linear algebra\n",
        "import pandas as pd # data processing, CSV file I/O\n",
        "import matplotlib.pyplot as plt # for data visualization\n",
        "import seaborn as sns # for statistical data visualization\n",
        "#plots will be rendered within the notebook itself\n",
        "%matplotlib inline\n",
        "\n",
        "import os #mengakses variabel lingkungan, mengelola direktori dan file, serta mengeksekusi perintah shell.\n",
        "for dirname, _, filenames in os.walk('https://raw.githubusercontent.com/alexandrehsd/Predicting-Pulsar-Stars/master/pulsar_stars.csv'):\n",
        "    for filename in filenames:\n",
        "        print(os.path.join(dirname, filename))"
      ]
    },
    {
      "cell_type": "code",
      "execution_count": 56,
      "metadata": {
        "id": "4jtsLr7naBDT"
      },
      "outputs": [],
      "source": [
        "# pesan peringatan yang biasanya akan ditampilkan saat menjalankan program akan diabaikan dan tidak ditampilkan.\n",
        "import warnings\n",
        "\n",
        "warnings.filterwarnings('ignore')"
      ]
    },
    {
      "cell_type": "code",
      "execution_count": 57,
      "metadata": {
        "id": "zBymKMAJaC6z"
      },
      "outputs": [],
      "source": [
        "data = 'https://raw.githubusercontent.com/alexandrehsd/Predicting-Pulsar-Stars/master/pulsar_stars.csv'\n",
        "\n",
        "df = pd.read_csv(data)# modul pandas untuk membaca file CSV."
      ]
    },
    {
      "cell_type": "code",
      "execution_count": 58,
      "metadata": {
        "colab": {
          "base_uri": "https://localhost:8080/"
        },
        "id": "XabGhk-paFFj",
        "outputId": "e70cb4e7-1947-47e8-fa99-d90a8a430ec2"
      },
      "outputs": [
        {
          "output_type": "execute_result",
          "data": {
            "text/plain": [
              "(17898, 9)"
            ]
          },
          "metadata": {},
          "execution_count": 58
        }
      ],
      "source": [
        "# view dimensions of dataset\n",
        "\n",
        "df.shape#memiliki 17898 baris dan 9 kolom"
      ]
    },
    {
      "cell_type": "code",
      "execution_count": 59,
      "metadata": {
        "colab": {
          "base_uri": "https://localhost:8080/",
          "height": 295
        },
        "id": "uZ3lwLqnaHB8",
        "outputId": "e012ed26-21d7-47d2-f197-279510dac14c"
      },
      "outputs": [
        {
          "output_type": "execute_result",
          "data": {
            "text/plain": [
              "    Mean of the integrated profile  \\\n",
              "0                       140.562500   \n",
              "1                       102.507812   \n",
              "2                       103.015625   \n",
              "3                       136.750000   \n",
              "4                        88.726562   \n",
              "\n",
              "    Standard deviation of the integrated profile  \\\n",
              "0                                      55.683782   \n",
              "1                                      58.882430   \n",
              "2                                      39.341649   \n",
              "3                                      57.178449   \n",
              "4                                      40.672225   \n",
              "\n",
              "    Excess kurtosis of the integrated profile  \\\n",
              "0                                   -0.234571   \n",
              "1                                    0.465318   \n",
              "2                                    0.323328   \n",
              "3                                   -0.068415   \n",
              "4                                    0.600866   \n",
              "\n",
              "    Skewness of the integrated profile   Mean of the DM-SNR curve  \\\n",
              "0                            -0.699648                   3.199833   \n",
              "1                            -0.515088                   1.677258   \n",
              "2                             1.051164                   3.121237   \n",
              "3                            -0.636238                   3.642977   \n",
              "4                             1.123492                   1.178930   \n",
              "\n",
              "    Standard deviation of the DM-SNR curve  \\\n",
              "0                                19.110426   \n",
              "1                                14.860146   \n",
              "2                                21.744669   \n",
              "3                                20.959280   \n",
              "4                                11.468720   \n",
              "\n",
              "    Excess kurtosis of the DM-SNR curve   Skewness of the DM-SNR curve  \\\n",
              "0                              7.975532                      74.242225   \n",
              "1                             10.576487                     127.393580   \n",
              "2                              7.735822                      63.171909   \n",
              "3                              6.896499                      53.593661   \n",
              "4                             14.269573                     252.567306   \n",
              "\n",
              "   target_class  \n",
              "0             0  \n",
              "1             0  \n",
              "2             0  \n",
              "3             0  \n",
              "4             0  "
            ],
            "text/html": [
              "\n",
              "  <div id=\"df-5adaef0a-2c75-4d46-ab32-1cf81b4b0ec2\" class=\"colab-df-container\">\n",
              "    <div>\n",
              "<style scoped>\n",
              "    .dataframe tbody tr th:only-of-type {\n",
              "        vertical-align: middle;\n",
              "    }\n",
              "\n",
              "    .dataframe tbody tr th {\n",
              "        vertical-align: top;\n",
              "    }\n",
              "\n",
              "    .dataframe thead th {\n",
              "        text-align: right;\n",
              "    }\n",
              "</style>\n",
              "<table border=\"1\" class=\"dataframe\">\n",
              "  <thead>\n",
              "    <tr style=\"text-align: right;\">\n",
              "      <th></th>\n",
              "      <th>Mean of the integrated profile</th>\n",
              "      <th>Standard deviation of the integrated profile</th>\n",
              "      <th>Excess kurtosis of the integrated profile</th>\n",
              "      <th>Skewness of the integrated profile</th>\n",
              "      <th>Mean of the DM-SNR curve</th>\n",
              "      <th>Standard deviation of the DM-SNR curve</th>\n",
              "      <th>Excess kurtosis of the DM-SNR curve</th>\n",
              "      <th>Skewness of the DM-SNR curve</th>\n",
              "      <th>target_class</th>\n",
              "    </tr>\n",
              "  </thead>\n",
              "  <tbody>\n",
              "    <tr>\n",
              "      <th>0</th>\n",
              "      <td>140.562500</td>\n",
              "      <td>55.683782</td>\n",
              "      <td>-0.234571</td>\n",
              "      <td>-0.699648</td>\n",
              "      <td>3.199833</td>\n",
              "      <td>19.110426</td>\n",
              "      <td>7.975532</td>\n",
              "      <td>74.242225</td>\n",
              "      <td>0</td>\n",
              "    </tr>\n",
              "    <tr>\n",
              "      <th>1</th>\n",
              "      <td>102.507812</td>\n",
              "      <td>58.882430</td>\n",
              "      <td>0.465318</td>\n",
              "      <td>-0.515088</td>\n",
              "      <td>1.677258</td>\n",
              "      <td>14.860146</td>\n",
              "      <td>10.576487</td>\n",
              "      <td>127.393580</td>\n",
              "      <td>0</td>\n",
              "    </tr>\n",
              "    <tr>\n",
              "      <th>2</th>\n",
              "      <td>103.015625</td>\n",
              "      <td>39.341649</td>\n",
              "      <td>0.323328</td>\n",
              "      <td>1.051164</td>\n",
              "      <td>3.121237</td>\n",
              "      <td>21.744669</td>\n",
              "      <td>7.735822</td>\n",
              "      <td>63.171909</td>\n",
              "      <td>0</td>\n",
              "    </tr>\n",
              "    <tr>\n",
              "      <th>3</th>\n",
              "      <td>136.750000</td>\n",
              "      <td>57.178449</td>\n",
              "      <td>-0.068415</td>\n",
              "      <td>-0.636238</td>\n",
              "      <td>3.642977</td>\n",
              "      <td>20.959280</td>\n",
              "      <td>6.896499</td>\n",
              "      <td>53.593661</td>\n",
              "      <td>0</td>\n",
              "    </tr>\n",
              "    <tr>\n",
              "      <th>4</th>\n",
              "      <td>88.726562</td>\n",
              "      <td>40.672225</td>\n",
              "      <td>0.600866</td>\n",
              "      <td>1.123492</td>\n",
              "      <td>1.178930</td>\n",
              "      <td>11.468720</td>\n",
              "      <td>14.269573</td>\n",
              "      <td>252.567306</td>\n",
              "      <td>0</td>\n",
              "    </tr>\n",
              "  </tbody>\n",
              "</table>\n",
              "</div>\n",
              "    <div class=\"colab-df-buttons\">\n",
              "\n",
              "  <div class=\"colab-df-container\">\n",
              "    <button class=\"colab-df-convert\" onclick=\"convertToInteractive('df-5adaef0a-2c75-4d46-ab32-1cf81b4b0ec2')\"\n",
              "            title=\"Convert this dataframe to an interactive table.\"\n",
              "            style=\"display:none;\">\n",
              "\n",
              "  <svg xmlns=\"http://www.w3.org/2000/svg\" height=\"24px\" viewBox=\"0 -960 960 960\">\n",
              "    <path d=\"M120-120v-720h720v720H120Zm60-500h600v-160H180v160Zm220 220h160v-160H400v160Zm0 220h160v-160H400v160ZM180-400h160v-160H180v160Zm440 0h160v-160H620v160ZM180-180h160v-160H180v160Zm440 0h160v-160H620v160Z\"/>\n",
              "  </svg>\n",
              "    </button>\n",
              "\n",
              "  <style>\n",
              "    .colab-df-container {\n",
              "      display:flex;\n",
              "      gap: 12px;\n",
              "    }\n",
              "\n",
              "    .colab-df-convert {\n",
              "      background-color: #E8F0FE;\n",
              "      border: none;\n",
              "      border-radius: 50%;\n",
              "      cursor: pointer;\n",
              "      display: none;\n",
              "      fill: #1967D2;\n",
              "      height: 32px;\n",
              "      padding: 0 0 0 0;\n",
              "      width: 32px;\n",
              "    }\n",
              "\n",
              "    .colab-df-convert:hover {\n",
              "      background-color: #E2EBFA;\n",
              "      box-shadow: 0px 1px 2px rgba(60, 64, 67, 0.3), 0px 1px 3px 1px rgba(60, 64, 67, 0.15);\n",
              "      fill: #174EA6;\n",
              "    }\n",
              "\n",
              "    .colab-df-buttons div {\n",
              "      margin-bottom: 4px;\n",
              "    }\n",
              "\n",
              "    [theme=dark] .colab-df-convert {\n",
              "      background-color: #3B4455;\n",
              "      fill: #D2E3FC;\n",
              "    }\n",
              "\n",
              "    [theme=dark] .colab-df-convert:hover {\n",
              "      background-color: #434B5C;\n",
              "      box-shadow: 0px 1px 3px 1px rgba(0, 0, 0, 0.15);\n",
              "      filter: drop-shadow(0px 1px 2px rgba(0, 0, 0, 0.3));\n",
              "      fill: #FFFFFF;\n",
              "    }\n",
              "  </style>\n",
              "\n",
              "    <script>\n",
              "      const buttonEl =\n",
              "        document.querySelector('#df-5adaef0a-2c75-4d46-ab32-1cf81b4b0ec2 button.colab-df-convert');\n",
              "      buttonEl.style.display =\n",
              "        google.colab.kernel.accessAllowed ? 'block' : 'none';\n",
              "\n",
              "      async function convertToInteractive(key) {\n",
              "        const element = document.querySelector('#df-5adaef0a-2c75-4d46-ab32-1cf81b4b0ec2');\n",
              "        const dataTable =\n",
              "          await google.colab.kernel.invokeFunction('convertToInteractive',\n",
              "                                                    [key], {});\n",
              "        if (!dataTable) return;\n",
              "\n",
              "        const docLinkHtml = 'Like what you see? Visit the ' +\n",
              "          '<a target=\"_blank\" href=https://colab.research.google.com/notebooks/data_table.ipynb>data table notebook</a>'\n",
              "          + ' to learn more about interactive tables.';\n",
              "        element.innerHTML = '';\n",
              "        dataTable['output_type'] = 'display_data';\n",
              "        await google.colab.output.renderOutput(dataTable, element);\n",
              "        const docLink = document.createElement('div');\n",
              "        docLink.innerHTML = docLinkHtml;\n",
              "        element.appendChild(docLink);\n",
              "      }\n",
              "    </script>\n",
              "  </div>\n",
              "\n",
              "\n",
              "<div id=\"df-932e512d-64df-487b-9a7f-0b76b724a8e5\">\n",
              "  <button class=\"colab-df-quickchart\" onclick=\"quickchart('df-932e512d-64df-487b-9a7f-0b76b724a8e5')\"\n",
              "            title=\"Suggest charts\"\n",
              "            style=\"display:none;\">\n",
              "\n",
              "<svg xmlns=\"http://www.w3.org/2000/svg\" height=\"24px\"viewBox=\"0 0 24 24\"\n",
              "     width=\"24px\">\n",
              "    <g>\n",
              "        <path d=\"M19 3H5c-1.1 0-2 .9-2 2v14c0 1.1.9 2 2 2h14c1.1 0 2-.9 2-2V5c0-1.1-.9-2-2-2zM9 17H7v-7h2v7zm4 0h-2V7h2v10zm4 0h-2v-4h2v4z\"/>\n",
              "    </g>\n",
              "</svg>\n",
              "  </button>\n",
              "\n",
              "<style>\n",
              "  .colab-df-quickchart {\n",
              "      --bg-color: #E8F0FE;\n",
              "      --fill-color: #1967D2;\n",
              "      --hover-bg-color: #E2EBFA;\n",
              "      --hover-fill-color: #174EA6;\n",
              "      --disabled-fill-color: #AAA;\n",
              "      --disabled-bg-color: #DDD;\n",
              "  }\n",
              "\n",
              "  [theme=dark] .colab-df-quickchart {\n",
              "      --bg-color: #3B4455;\n",
              "      --fill-color: #D2E3FC;\n",
              "      --hover-bg-color: #434B5C;\n",
              "      --hover-fill-color: #FFFFFF;\n",
              "      --disabled-bg-color: #3B4455;\n",
              "      --disabled-fill-color: #666;\n",
              "  }\n",
              "\n",
              "  .colab-df-quickchart {\n",
              "    background-color: var(--bg-color);\n",
              "    border: none;\n",
              "    border-radius: 50%;\n",
              "    cursor: pointer;\n",
              "    display: none;\n",
              "    fill: var(--fill-color);\n",
              "    height: 32px;\n",
              "    padding: 0;\n",
              "    width: 32px;\n",
              "  }\n",
              "\n",
              "  .colab-df-quickchart:hover {\n",
              "    background-color: var(--hover-bg-color);\n",
              "    box-shadow: 0 1px 2px rgba(60, 64, 67, 0.3), 0 1px 3px 1px rgba(60, 64, 67, 0.15);\n",
              "    fill: var(--button-hover-fill-color);\n",
              "  }\n",
              "\n",
              "  .colab-df-quickchart-complete:disabled,\n",
              "  .colab-df-quickchart-complete:disabled:hover {\n",
              "    background-color: var(--disabled-bg-color);\n",
              "    fill: var(--disabled-fill-color);\n",
              "    box-shadow: none;\n",
              "  }\n",
              "\n",
              "  .colab-df-spinner {\n",
              "    border: 2px solid var(--fill-color);\n",
              "    border-color: transparent;\n",
              "    border-bottom-color: var(--fill-color);\n",
              "    animation:\n",
              "      spin 1s steps(1) infinite;\n",
              "  }\n",
              "\n",
              "  @keyframes spin {\n",
              "    0% {\n",
              "      border-color: transparent;\n",
              "      border-bottom-color: var(--fill-color);\n",
              "      border-left-color: var(--fill-color);\n",
              "    }\n",
              "    20% {\n",
              "      border-color: transparent;\n",
              "      border-left-color: var(--fill-color);\n",
              "      border-top-color: var(--fill-color);\n",
              "    }\n",
              "    30% {\n",
              "      border-color: transparent;\n",
              "      border-left-color: var(--fill-color);\n",
              "      border-top-color: var(--fill-color);\n",
              "      border-right-color: var(--fill-color);\n",
              "    }\n",
              "    40% {\n",
              "      border-color: transparent;\n",
              "      border-right-color: var(--fill-color);\n",
              "      border-top-color: var(--fill-color);\n",
              "    }\n",
              "    60% {\n",
              "      border-color: transparent;\n",
              "      border-right-color: var(--fill-color);\n",
              "    }\n",
              "    80% {\n",
              "      border-color: transparent;\n",
              "      border-right-color: var(--fill-color);\n",
              "      border-bottom-color: var(--fill-color);\n",
              "    }\n",
              "    90% {\n",
              "      border-color: transparent;\n",
              "      border-bottom-color: var(--fill-color);\n",
              "    }\n",
              "  }\n",
              "</style>\n",
              "\n",
              "  <script>\n",
              "    async function quickchart(key) {\n",
              "      const quickchartButtonEl =\n",
              "        document.querySelector('#' + key + ' button');\n",
              "      quickchartButtonEl.disabled = true;  // To prevent multiple clicks.\n",
              "      quickchartButtonEl.classList.add('colab-df-spinner');\n",
              "      try {\n",
              "        const charts = await google.colab.kernel.invokeFunction(\n",
              "            'suggestCharts', [key], {});\n",
              "      } catch (error) {\n",
              "        console.error('Error during call to suggestCharts:', error);\n",
              "      }\n",
              "      quickchartButtonEl.classList.remove('colab-df-spinner');\n",
              "      quickchartButtonEl.classList.add('colab-df-quickchart-complete');\n",
              "    }\n",
              "    (() => {\n",
              "      let quickchartButtonEl =\n",
              "        document.querySelector('#df-932e512d-64df-487b-9a7f-0b76b724a8e5 button');\n",
              "      quickchartButtonEl.style.display =\n",
              "        google.colab.kernel.accessAllowed ? 'block' : 'none';\n",
              "    })();\n",
              "  </script>\n",
              "</div>\n",
              "    </div>\n",
              "  </div>\n"
            ],
            "application/vnd.google.colaboratory.intrinsic+json": {
              "type": "dataframe",
              "variable_name": "df",
              "summary": "{\n  \"name\": \"df\",\n  \"rows\": 17898,\n  \"fields\": [\n    {\n      \"column\": \" Mean of the integrated profile\",\n      \"properties\": {\n        \"dtype\": \"number\",\n        \"std\": 25.652935359860106,\n        \"min\": 5.8125,\n        \"max\": 192.6171875,\n        \"num_unique_values\": 8626,\n        \"samples\": [\n          83.265625,\n          51.9453125,\n          120.75\n        ],\n        \"semantic_type\": \"\",\n        \"description\": \"\"\n      }\n    },\n    {\n      \"column\": \" Standard deviation of the integrated profile\",\n      \"properties\": {\n        \"dtype\": \"number\",\n        \"std\": 6.843189410087772,\n        \"min\": 24.77204176,\n        \"max\": 98.77891067,\n        \"num_unique_values\": 17862,\n        \"samples\": [\n          48.17823507,\n          50.13572825,\n          53.11199232\n        ],\n        \"semantic_type\": \"\",\n        \"description\": \"\"\n      }\n    },\n    {\n      \"column\": \" Excess kurtosis of the integrated profile\",\n      \"properties\": {\n        \"dtype\": \"number\",\n        \"std\": 1.0640397163731556,\n        \"min\": -1.876011181,\n        \"max\": 8.069522046,\n        \"num_unique_values\": 17897,\n        \"samples\": [\n          0.175111538,\n          2.02549836,\n          0.504295246\n        ],\n        \"semantic_type\": \"\",\n        \"description\": \"\"\n      }\n    },\n    {\n      \"column\": \" Skewness of the integrated profile\",\n      \"properties\": {\n        \"dtype\": \"number\",\n        \"std\": 6.167913247731735,\n        \"min\": -1.791885981,\n        \"max\": 68.10162173,\n        \"num_unique_values\": 17898,\n        \"samples\": [\n          -0.129815137,\n          8.652912976,\n          0.821088334\n        ],\n        \"semantic_type\": \"\",\n        \"description\": \"\"\n      }\n    },\n    {\n      \"column\": \" Mean of the DM-SNR curve\",\n      \"properties\": {\n        \"dtype\": \"number\",\n        \"std\": 29.472897150065176,\n        \"min\": 0.213210702,\n        \"max\": 223.3921405,\n        \"num_unique_values\": 9000,\n        \"samples\": [\n          3.387123746,\n          4.147157191,\n          3.241638796\n        ],\n        \"semantic_type\": \"\",\n        \"description\": \"\"\n      }\n    },\n    {\n      \"column\": \" Standard deviation of the DM-SNR curve\",\n      \"properties\": {\n        \"dtype\": \"number\",\n        \"std\": 19.470572330539163,\n        \"min\": 7.370432165,\n        \"max\": 110.6422106,\n        \"num_unique_values\": 17894,\n        \"samples\": [\n          16.7127396,\n          11.35208188,\n          11.14631778\n        ],\n        \"semantic_type\": \"\",\n        \"description\": \"\"\n      }\n    },\n    {\n      \"column\": \" Excess kurtosis of the DM-SNR curve\",\n      \"properties\": {\n        \"dtype\": \"number\",\n        \"std\": 4.506091858992771,\n        \"min\": -3.139269611,\n        \"max\": 34.53984419,\n        \"num_unique_values\": 17895,\n        \"samples\": [\n          10.49423164,\n          8.479589229,\n          8.236539915\n        ],\n        \"semantic_type\": \"\",\n        \"description\": \"\"\n      }\n    },\n    {\n      \"column\": \" Skewness of the DM-SNR curve\",\n      \"properties\": {\n        \"dtype\": \"number\",\n        \"std\": 106.51453953467565,\n        \"min\": -1.976975603,\n        \"max\": 1191.000837,\n        \"num_unique_values\": 17895,\n        \"samples\": [\n          153.2811187,\n          92.51934407,\n          84.30255822\n        ],\n        \"semantic_type\": \"\",\n        \"description\": \"\"\n      }\n    },\n    {\n      \"column\": \"target_class\",\n      \"properties\": {\n        \"dtype\": \"number\",\n        \"std\": 0,\n        \"min\": 0,\n        \"max\": 1,\n        \"num_unique_values\": 2,\n        \"samples\": [\n          1,\n          0\n        ],\n        \"semantic_type\": \"\",\n        \"description\": \"\"\n      }\n    }\n  ]\n}"
            }
          },
          "metadata": {},
          "execution_count": 59
        }
      ],
      "source": [
        "# let's preview the dataset\n",
        "\n",
        "df.head()"
      ]
    },
    {
      "cell_type": "code",
      "execution_count": 60,
      "metadata": {
        "colab": {
          "base_uri": "https://localhost:8080/"
        },
        "id": "zyY9dZzZaJKz",
        "outputId": "a69eeaa8-a7b9-4d5a-adfc-b1dfd082959b"
      },
      "outputs": [
        {
          "output_type": "execute_result",
          "data": {
            "text/plain": [
              "Index([' Mean of the integrated profile',\n",
              "       ' Standard deviation of the integrated profile',\n",
              "       ' Excess kurtosis of the integrated profile',\n",
              "       ' Skewness of the integrated profile', ' Mean of the DM-SNR curve',\n",
              "       ' Standard deviation of the DM-SNR curve',\n",
              "       ' Excess kurtosis of the DM-SNR curve', ' Skewness of the DM-SNR curve',\n",
              "       'target_class'],\n",
              "      dtype='object')"
            ]
          },
          "metadata": {},
          "execution_count": 60
        }
      ],
      "source": [
        "# view the column names of the dataframe\n",
        "\n",
        "col_names = df.columns\n",
        "\n",
        "col_names # mendapatkan nama-nama kolom dari DataFrame df dan menyimpannya ke dalam variabel col_names"
      ]
    },
    {
      "cell_type": "code",
      "execution_count": 61,
      "metadata": {
        "id": "Y8PWs9vUaLU7"
      },
      "outputs": [],
      "source": [
        "# menghapus spasi putih di sekitar nama-nama kolom dalam DataFrame df\n",
        "\n",
        "df.columns = df.columns.str.strip()"
      ]
    },
    {
      "cell_type": "code",
      "execution_count": 62,
      "metadata": {
        "colab": {
          "base_uri": "https://localhost:8080/"
        },
        "id": "_gglRtekaMzL",
        "outputId": "862c6162-c90b-4644-b54c-4aaa6a5c1d3d"
      },
      "outputs": [
        {
          "output_type": "execute_result",
          "data": {
            "text/plain": [
              "Index(['Mean of the integrated profile',\n",
              "       'Standard deviation of the integrated profile',\n",
              "       'Excess kurtosis of the integrated profile',\n",
              "       'Skewness of the integrated profile', 'Mean of the DM-SNR curve',\n",
              "       'Standard deviation of the DM-SNR curve',\n",
              "       'Excess kurtosis of the DM-SNR curve', 'Skewness of the DM-SNR curve',\n",
              "       'target_class'],\n",
              "      dtype='object')"
            ]
          },
          "metadata": {},
          "execution_count": 62
        }
      ],
      "source": [
        "# view column names again\n",
        "\n",
        "df.columns"
      ]
    },
    {
      "cell_type": "code",
      "execution_count": 63,
      "metadata": {
        "id": "-Fvtfg-eaOnL"
      },
      "outputs": [],
      "source": [
        "# rename column names\n",
        "\n",
        "df.columns = ['IP Mean', 'IP Sd', 'IP Kurtosis', 'IP Skewness',\n",
        "              'DM-SNR Mean', 'DM-SNR Sd', 'DM-SNR Kurtosis', 'DM-SNR Skewness', 'target_class']"
      ]
    },
    {
      "cell_type": "code",
      "execution_count": 64,
      "metadata": {
        "colab": {
          "base_uri": "https://localhost:8080/"
        },
        "id": "96q57UVGaU8D",
        "outputId": "483f1195-cf00-4e31-9d51-02c18decfa72"
      },
      "outputs": [
        {
          "output_type": "execute_result",
          "data": {
            "text/plain": [
              "Index(['IP Mean', 'IP Sd', 'IP Kurtosis', 'IP Skewness', 'DM-SNR Mean',\n",
              "       'DM-SNR Sd', 'DM-SNR Kurtosis', 'DM-SNR Skewness', 'target_class'],\n",
              "      dtype='object')"
            ]
          },
          "metadata": {},
          "execution_count": 64
        }
      ],
      "source": [
        "# view the renamed column names\n",
        "\n",
        "df.columns"
      ]
    },
    {
      "cell_type": "code",
      "execution_count": 65,
      "metadata": {
        "colab": {
          "base_uri": "https://localhost:8080/"
        },
        "id": "pAYwc9HNaYEa",
        "outputId": "5ebe3dc1-9c38-45c8-bc06-a456ef3fe170"
      },
      "outputs": [
        {
          "output_type": "execute_result",
          "data": {
            "text/plain": [
              "0    16259\n",
              "1     1639\n",
              "Name: target_class, dtype: int64"
            ]
          },
          "metadata": {},
          "execution_count": 65
        }
      ],
      "source": [
        "# menghitung jumlah kemunculan setiap nilai unik dalam kolom 'target_class' dari DataFrame df\n",
        "\n",
        "df['target_class'].value_counts()"
      ]
    },
    {
      "cell_type": "code",
      "execution_count": 66,
      "metadata": {
        "colab": {
          "base_uri": "https://localhost:8080/"
        },
        "id": "XPkK4Xl-abNj",
        "outputId": "f38773f9-aa49-45f2-e963-f165f0344ef4"
      },
      "outputs": [
        {
          "output_type": "execute_result",
          "data": {
            "text/plain": [
              "0    0.908426\n",
              "1    0.091574\n",
              "Name: target_class, dtype: float64"
            ]
          },
          "metadata": {},
          "execution_count": 66
        }
      ],
      "source": [
        "# menghitung proporsi dari setiap nilai unik dalam kolom 'target_class' dari DataFrame df\n",
        "\n",
        "df['target_class'].value_counts()/float(len(df))"
      ]
    },
    {
      "cell_type": "code",
      "execution_count": 67,
      "metadata": {
        "colab": {
          "base_uri": "https://localhost:8080/"
        },
        "id": "DBlPeEMMaczD",
        "outputId": "d296ab72-9020-4102-db91-106a7749c1eb"
      },
      "outputs": [
        {
          "output_type": "stream",
          "name": "stdout",
          "text": [
            "<class 'pandas.core.frame.DataFrame'>\n",
            "RangeIndex: 17898 entries, 0 to 17897\n",
            "Data columns (total 9 columns):\n",
            " #   Column           Non-Null Count  Dtype  \n",
            "---  ------           --------------  -----  \n",
            " 0   IP Mean          17898 non-null  float64\n",
            " 1   IP Sd            17898 non-null  float64\n",
            " 2   IP Kurtosis      17898 non-null  float64\n",
            " 3   IP Skewness      17898 non-null  float64\n",
            " 4   DM-SNR Mean      17898 non-null  float64\n",
            " 5   DM-SNR Sd        17898 non-null  float64\n",
            " 6   DM-SNR Kurtosis  17898 non-null  float64\n",
            " 7   DM-SNR Skewness  17898 non-null  float64\n",
            " 8   target_class     17898 non-null  int64  \n",
            "dtypes: float64(8), int64(1)\n",
            "memory usage: 1.2 MB\n"
          ]
        }
      ],
      "source": [
        "# view summary of dataset\n",
        "\n",
        "df.info()"
      ]
    },
    {
      "cell_type": "code",
      "execution_count": 68,
      "metadata": {
        "colab": {
          "base_uri": "https://localhost:8080/"
        },
        "id": "gCczUGG6aejC",
        "outputId": "01cd855c-a6a0-4315-b4db-72456450bbc1"
      },
      "outputs": [
        {
          "output_type": "execute_result",
          "data": {
            "text/plain": [
              "IP Mean            0\n",
              "IP Sd              0\n",
              "IP Kurtosis        0\n",
              "IP Skewness        0\n",
              "DM-SNR Mean        0\n",
              "DM-SNR Sd          0\n",
              "DM-SNR Kurtosis    0\n",
              "DM-SNR Skewness    0\n",
              "target_class       0\n",
              "dtype: int64"
            ]
          },
          "metadata": {},
          "execution_count": 68
        }
      ],
      "source": [
        "# menghitung jumlah nilai yang hilang dalam setiap kolom DataFrame df\n",
        "\n",
        "df.isnull().sum()"
      ]
    },
    {
      "cell_type": "code",
      "execution_count": 69,
      "metadata": {
        "colab": {
          "base_uri": "https://localhost:8080/",
          "height": 337
        },
        "id": "4qfhEoEKaiTj",
        "outputId": "4f90d69d-9a8c-4ff4-a412-605223ad48a6"
      },
      "outputs": [
        {
          "output_type": "execute_result",
          "data": {
            "text/plain": [
              "        IP Mean     IP Sd  IP Kurtosis  IP Skewness  DM-SNR Mean  DM-SNR Sd  \\\n",
              "count  17898.00  17898.00     17898.00     17898.00     17898.00   17898.00   \n",
              "mean     111.08     46.55         0.48         1.77        12.61      26.33   \n",
              "std       25.65      6.84         1.06         6.17        29.47      19.47   \n",
              "min        5.81     24.77        -1.88        -1.79         0.21       7.37   \n",
              "25%      100.93     42.38         0.03        -0.19         1.92      14.44   \n",
              "50%      115.08     46.95         0.22         0.20         2.80      18.46   \n",
              "75%      127.09     51.02         0.47         0.93         5.46      28.43   \n",
              "max      192.62     98.78         8.07        68.10       223.39     110.64   \n",
              "\n",
              "       DM-SNR Kurtosis  DM-SNR Skewness  target_class  \n",
              "count         17898.00         17898.00      17898.00  \n",
              "mean              8.30           104.86          0.09  \n",
              "std               4.51           106.51          0.29  \n",
              "min              -3.14            -1.98          0.00  \n",
              "25%               5.78            34.96          0.00  \n",
              "50%               8.43            83.06          0.00  \n",
              "75%              10.70           139.31          0.00  \n",
              "max              34.54          1191.00          1.00  "
            ],
            "text/html": [
              "\n",
              "  <div id=\"df-f22325fb-11dd-4e75-a04c-d81cde164891\" class=\"colab-df-container\">\n",
              "    <div>\n",
              "<style scoped>\n",
              "    .dataframe tbody tr th:only-of-type {\n",
              "        vertical-align: middle;\n",
              "    }\n",
              "\n",
              "    .dataframe tbody tr th {\n",
              "        vertical-align: top;\n",
              "    }\n",
              "\n",
              "    .dataframe thead th {\n",
              "        text-align: right;\n",
              "    }\n",
              "</style>\n",
              "<table border=\"1\" class=\"dataframe\">\n",
              "  <thead>\n",
              "    <tr style=\"text-align: right;\">\n",
              "      <th></th>\n",
              "      <th>IP Mean</th>\n",
              "      <th>IP Sd</th>\n",
              "      <th>IP Kurtosis</th>\n",
              "      <th>IP Skewness</th>\n",
              "      <th>DM-SNR Mean</th>\n",
              "      <th>DM-SNR Sd</th>\n",
              "      <th>DM-SNR Kurtosis</th>\n",
              "      <th>DM-SNR Skewness</th>\n",
              "      <th>target_class</th>\n",
              "    </tr>\n",
              "  </thead>\n",
              "  <tbody>\n",
              "    <tr>\n",
              "      <th>count</th>\n",
              "      <td>17898.00</td>\n",
              "      <td>17898.00</td>\n",
              "      <td>17898.00</td>\n",
              "      <td>17898.00</td>\n",
              "      <td>17898.00</td>\n",
              "      <td>17898.00</td>\n",
              "      <td>17898.00</td>\n",
              "      <td>17898.00</td>\n",
              "      <td>17898.00</td>\n",
              "    </tr>\n",
              "    <tr>\n",
              "      <th>mean</th>\n",
              "      <td>111.08</td>\n",
              "      <td>46.55</td>\n",
              "      <td>0.48</td>\n",
              "      <td>1.77</td>\n",
              "      <td>12.61</td>\n",
              "      <td>26.33</td>\n",
              "      <td>8.30</td>\n",
              "      <td>104.86</td>\n",
              "      <td>0.09</td>\n",
              "    </tr>\n",
              "    <tr>\n",
              "      <th>std</th>\n",
              "      <td>25.65</td>\n",
              "      <td>6.84</td>\n",
              "      <td>1.06</td>\n",
              "      <td>6.17</td>\n",
              "      <td>29.47</td>\n",
              "      <td>19.47</td>\n",
              "      <td>4.51</td>\n",
              "      <td>106.51</td>\n",
              "      <td>0.29</td>\n",
              "    </tr>\n",
              "    <tr>\n",
              "      <th>min</th>\n",
              "      <td>5.81</td>\n",
              "      <td>24.77</td>\n",
              "      <td>-1.88</td>\n",
              "      <td>-1.79</td>\n",
              "      <td>0.21</td>\n",
              "      <td>7.37</td>\n",
              "      <td>-3.14</td>\n",
              "      <td>-1.98</td>\n",
              "      <td>0.00</td>\n",
              "    </tr>\n",
              "    <tr>\n",
              "      <th>25%</th>\n",
              "      <td>100.93</td>\n",
              "      <td>42.38</td>\n",
              "      <td>0.03</td>\n",
              "      <td>-0.19</td>\n",
              "      <td>1.92</td>\n",
              "      <td>14.44</td>\n",
              "      <td>5.78</td>\n",
              "      <td>34.96</td>\n",
              "      <td>0.00</td>\n",
              "    </tr>\n",
              "    <tr>\n",
              "      <th>50%</th>\n",
              "      <td>115.08</td>\n",
              "      <td>46.95</td>\n",
              "      <td>0.22</td>\n",
              "      <td>0.20</td>\n",
              "      <td>2.80</td>\n",
              "      <td>18.46</td>\n",
              "      <td>8.43</td>\n",
              "      <td>83.06</td>\n",
              "      <td>0.00</td>\n",
              "    </tr>\n",
              "    <tr>\n",
              "      <th>75%</th>\n",
              "      <td>127.09</td>\n",
              "      <td>51.02</td>\n",
              "      <td>0.47</td>\n",
              "      <td>0.93</td>\n",
              "      <td>5.46</td>\n",
              "      <td>28.43</td>\n",
              "      <td>10.70</td>\n",
              "      <td>139.31</td>\n",
              "      <td>0.00</td>\n",
              "    </tr>\n",
              "    <tr>\n",
              "      <th>max</th>\n",
              "      <td>192.62</td>\n",
              "      <td>98.78</td>\n",
              "      <td>8.07</td>\n",
              "      <td>68.10</td>\n",
              "      <td>223.39</td>\n",
              "      <td>110.64</td>\n",
              "      <td>34.54</td>\n",
              "      <td>1191.00</td>\n",
              "      <td>1.00</td>\n",
              "    </tr>\n",
              "  </tbody>\n",
              "</table>\n",
              "</div>\n",
              "    <div class=\"colab-df-buttons\">\n",
              "\n",
              "  <div class=\"colab-df-container\">\n",
              "    <button class=\"colab-df-convert\" onclick=\"convertToInteractive('df-f22325fb-11dd-4e75-a04c-d81cde164891')\"\n",
              "            title=\"Convert this dataframe to an interactive table.\"\n",
              "            style=\"display:none;\">\n",
              "\n",
              "  <svg xmlns=\"http://www.w3.org/2000/svg\" height=\"24px\" viewBox=\"0 -960 960 960\">\n",
              "    <path d=\"M120-120v-720h720v720H120Zm60-500h600v-160H180v160Zm220 220h160v-160H400v160Zm0 220h160v-160H400v160ZM180-400h160v-160H180v160Zm440 0h160v-160H620v160ZM180-180h160v-160H180v160Zm440 0h160v-160H620v160Z\"/>\n",
              "  </svg>\n",
              "    </button>\n",
              "\n",
              "  <style>\n",
              "    .colab-df-container {\n",
              "      display:flex;\n",
              "      gap: 12px;\n",
              "    }\n",
              "\n",
              "    .colab-df-convert {\n",
              "      background-color: #E8F0FE;\n",
              "      border: none;\n",
              "      border-radius: 50%;\n",
              "      cursor: pointer;\n",
              "      display: none;\n",
              "      fill: #1967D2;\n",
              "      height: 32px;\n",
              "      padding: 0 0 0 0;\n",
              "      width: 32px;\n",
              "    }\n",
              "\n",
              "    .colab-df-convert:hover {\n",
              "      background-color: #E2EBFA;\n",
              "      box-shadow: 0px 1px 2px rgba(60, 64, 67, 0.3), 0px 1px 3px 1px rgba(60, 64, 67, 0.15);\n",
              "      fill: #174EA6;\n",
              "    }\n",
              "\n",
              "    .colab-df-buttons div {\n",
              "      margin-bottom: 4px;\n",
              "    }\n",
              "\n",
              "    [theme=dark] .colab-df-convert {\n",
              "      background-color: #3B4455;\n",
              "      fill: #D2E3FC;\n",
              "    }\n",
              "\n",
              "    [theme=dark] .colab-df-convert:hover {\n",
              "      background-color: #434B5C;\n",
              "      box-shadow: 0px 1px 3px 1px rgba(0, 0, 0, 0.15);\n",
              "      filter: drop-shadow(0px 1px 2px rgba(0, 0, 0, 0.3));\n",
              "      fill: #FFFFFF;\n",
              "    }\n",
              "  </style>\n",
              "\n",
              "    <script>\n",
              "      const buttonEl =\n",
              "        document.querySelector('#df-f22325fb-11dd-4e75-a04c-d81cde164891 button.colab-df-convert');\n",
              "      buttonEl.style.display =\n",
              "        google.colab.kernel.accessAllowed ? 'block' : 'none';\n",
              "\n",
              "      async function convertToInteractive(key) {\n",
              "        const element = document.querySelector('#df-f22325fb-11dd-4e75-a04c-d81cde164891');\n",
              "        const dataTable =\n",
              "          await google.colab.kernel.invokeFunction('convertToInteractive',\n",
              "                                                    [key], {});\n",
              "        if (!dataTable) return;\n",
              "\n",
              "        const docLinkHtml = 'Like what you see? Visit the ' +\n",
              "          '<a target=\"_blank\" href=https://colab.research.google.com/notebooks/data_table.ipynb>data table notebook</a>'\n",
              "          + ' to learn more about interactive tables.';\n",
              "        element.innerHTML = '';\n",
              "        dataTable['output_type'] = 'display_data';\n",
              "        await google.colab.output.renderOutput(dataTable, element);\n",
              "        const docLink = document.createElement('div');\n",
              "        docLink.innerHTML = docLinkHtml;\n",
              "        element.appendChild(docLink);\n",
              "      }\n",
              "    </script>\n",
              "  </div>\n",
              "\n",
              "\n",
              "<div id=\"df-0780208f-76bd-457f-9a7b-58f3dd59ea27\">\n",
              "  <button class=\"colab-df-quickchart\" onclick=\"quickchart('df-0780208f-76bd-457f-9a7b-58f3dd59ea27')\"\n",
              "            title=\"Suggest charts\"\n",
              "            style=\"display:none;\">\n",
              "\n",
              "<svg xmlns=\"http://www.w3.org/2000/svg\" height=\"24px\"viewBox=\"0 0 24 24\"\n",
              "     width=\"24px\">\n",
              "    <g>\n",
              "        <path d=\"M19 3H5c-1.1 0-2 .9-2 2v14c0 1.1.9 2 2 2h14c1.1 0 2-.9 2-2V5c0-1.1-.9-2-2-2zM9 17H7v-7h2v7zm4 0h-2V7h2v10zm4 0h-2v-4h2v4z\"/>\n",
              "    </g>\n",
              "</svg>\n",
              "  </button>\n",
              "\n",
              "<style>\n",
              "  .colab-df-quickchart {\n",
              "      --bg-color: #E8F0FE;\n",
              "      --fill-color: #1967D2;\n",
              "      --hover-bg-color: #E2EBFA;\n",
              "      --hover-fill-color: #174EA6;\n",
              "      --disabled-fill-color: #AAA;\n",
              "      --disabled-bg-color: #DDD;\n",
              "  }\n",
              "\n",
              "  [theme=dark] .colab-df-quickchart {\n",
              "      --bg-color: #3B4455;\n",
              "      --fill-color: #D2E3FC;\n",
              "      --hover-bg-color: #434B5C;\n",
              "      --hover-fill-color: #FFFFFF;\n",
              "      --disabled-bg-color: #3B4455;\n",
              "      --disabled-fill-color: #666;\n",
              "  }\n",
              "\n",
              "  .colab-df-quickchart {\n",
              "    background-color: var(--bg-color);\n",
              "    border: none;\n",
              "    border-radius: 50%;\n",
              "    cursor: pointer;\n",
              "    display: none;\n",
              "    fill: var(--fill-color);\n",
              "    height: 32px;\n",
              "    padding: 0;\n",
              "    width: 32px;\n",
              "  }\n",
              "\n",
              "  .colab-df-quickchart:hover {\n",
              "    background-color: var(--hover-bg-color);\n",
              "    box-shadow: 0 1px 2px rgba(60, 64, 67, 0.3), 0 1px 3px 1px rgba(60, 64, 67, 0.15);\n",
              "    fill: var(--button-hover-fill-color);\n",
              "  }\n",
              "\n",
              "  .colab-df-quickchart-complete:disabled,\n",
              "  .colab-df-quickchart-complete:disabled:hover {\n",
              "    background-color: var(--disabled-bg-color);\n",
              "    fill: var(--disabled-fill-color);\n",
              "    box-shadow: none;\n",
              "  }\n",
              "\n",
              "  .colab-df-spinner {\n",
              "    border: 2px solid var(--fill-color);\n",
              "    border-color: transparent;\n",
              "    border-bottom-color: var(--fill-color);\n",
              "    animation:\n",
              "      spin 1s steps(1) infinite;\n",
              "  }\n",
              "\n",
              "  @keyframes spin {\n",
              "    0% {\n",
              "      border-color: transparent;\n",
              "      border-bottom-color: var(--fill-color);\n",
              "      border-left-color: var(--fill-color);\n",
              "    }\n",
              "    20% {\n",
              "      border-color: transparent;\n",
              "      border-left-color: var(--fill-color);\n",
              "      border-top-color: var(--fill-color);\n",
              "    }\n",
              "    30% {\n",
              "      border-color: transparent;\n",
              "      border-left-color: var(--fill-color);\n",
              "      border-top-color: var(--fill-color);\n",
              "      border-right-color: var(--fill-color);\n",
              "    }\n",
              "    40% {\n",
              "      border-color: transparent;\n",
              "      border-right-color: var(--fill-color);\n",
              "      border-top-color: var(--fill-color);\n",
              "    }\n",
              "    60% {\n",
              "      border-color: transparent;\n",
              "      border-right-color: var(--fill-color);\n",
              "    }\n",
              "    80% {\n",
              "      border-color: transparent;\n",
              "      border-right-color: var(--fill-color);\n",
              "      border-bottom-color: var(--fill-color);\n",
              "    }\n",
              "    90% {\n",
              "      border-color: transparent;\n",
              "      border-bottom-color: var(--fill-color);\n",
              "    }\n",
              "  }\n",
              "</style>\n",
              "\n",
              "  <script>\n",
              "    async function quickchart(key) {\n",
              "      const quickchartButtonEl =\n",
              "        document.querySelector('#' + key + ' button');\n",
              "      quickchartButtonEl.disabled = true;  // To prevent multiple clicks.\n",
              "      quickchartButtonEl.classList.add('colab-df-spinner');\n",
              "      try {\n",
              "        const charts = await google.colab.kernel.invokeFunction(\n",
              "            'suggestCharts', [key], {});\n",
              "      } catch (error) {\n",
              "        console.error('Error during call to suggestCharts:', error);\n",
              "      }\n",
              "      quickchartButtonEl.classList.remove('colab-df-spinner');\n",
              "      quickchartButtonEl.classList.add('colab-df-quickchart-complete');\n",
              "    }\n",
              "    (() => {\n",
              "      let quickchartButtonEl =\n",
              "        document.querySelector('#df-0780208f-76bd-457f-9a7b-58f3dd59ea27 button');\n",
              "      quickchartButtonEl.style.display =\n",
              "        google.colab.kernel.accessAllowed ? 'block' : 'none';\n",
              "    })();\n",
              "  </script>\n",
              "</div>\n",
              "    </div>\n",
              "  </div>\n"
            ],
            "application/vnd.google.colaboratory.intrinsic+json": {
              "type": "dataframe",
              "summary": "{\n  \"name\": \"round(df\",\n  \"rows\": 8,\n  \"fields\": [\n    {\n      \"column\": \"IP Mean\",\n      \"properties\": {\n        \"dtype\": \"number\",\n        \"std\": 6293.913608744221,\n        \"min\": 5.81,\n        \"max\": 17898.0,\n        \"num_unique_values\": 8,\n        \"samples\": [\n          111.08,\n          115.08,\n          17898.0\n        ],\n        \"semantic_type\": \"\",\n        \"description\": \"\"\n      }\n    },\n    {\n      \"column\": \"IP Sd\",\n      \"properties\": {\n        \"dtype\": \"number\",\n        \"std\": 6311.9274101122855,\n        \"min\": 6.84,\n        \"max\": 17898.0,\n        \"num_unique_values\": 8,\n        \"samples\": [\n          46.55,\n          46.95,\n          17898.0\n        ],\n        \"semantic_type\": \"\",\n        \"description\": \"\"\n      }\n    },\n    {\n      \"column\": \"IP Kurtosis\",\n      \"properties\": {\n        \"dtype\": \"number\",\n        \"std\": 6327.4724736454655,\n        \"min\": -1.88,\n        \"max\": 17898.0,\n        \"num_unique_values\": 8,\n        \"samples\": [\n          0.48,\n          0.22,\n          17898.0\n        ],\n        \"semantic_type\": \"\",\n        \"description\": \"\"\n      }\n    },\n    {\n      \"column\": \"IP Skewness\",\n      \"properties\": {\n        \"dtype\": \"number\",\n        \"std\": 6324.144686493045,\n        \"min\": -1.79,\n        \"max\": 17898.0,\n        \"num_unique_values\": 8,\n        \"samples\": [\n          1.77,\n          0.2,\n          17898.0\n        ],\n        \"semantic_type\": \"\",\n        \"description\": \"\"\n      }\n    },\n    {\n      \"column\": \"DM-SNR Mean\",\n      \"properties\": {\n        \"dtype\": \"number\",\n        \"std\": 6314.4191855370655,\n        \"min\": 0.21,\n        \"max\": 17898.0,\n        \"num_unique_values\": 8,\n        \"samples\": [\n          12.61,\n          2.8,\n          17898.0\n        ],\n        \"semantic_type\": \"\",\n        \"description\": \"\"\n      }\n    },\n    {\n      \"column\": \"DM-SNR Sd\",\n      \"properties\": {\n        \"dtype\": \"number\",\n        \"std\": 6316.611930841565,\n        \"min\": 7.37,\n        \"max\": 17898.0,\n        \"num_unique_values\": 8,\n        \"samples\": [\n          26.33,\n          18.46,\n          17898.0\n        ],\n        \"semantic_type\": \"\",\n        \"description\": \"\"\n      }\n    },\n    {\n      \"column\": \"DM-SNR Kurtosis\",\n      \"properties\": {\n        \"dtype\": \"number\",\n        \"std\": 6324.416855419501,\n        \"min\": -3.14,\n        \"max\": 17898.0,\n        \"num_unique_values\": 8,\n        \"samples\": [\n          8.3,\n          8.43,\n          17898.0\n        ],\n        \"semantic_type\": \"\",\n        \"description\": \"\"\n      }\n    },\n    {\n      \"column\": \"DM-SNR Skewness\",\n      \"properties\": {\n        \"dtype\": \"number\",\n        \"std\": 6256.465047927852,\n        \"min\": -1.98,\n        \"max\": 17898.0,\n        \"num_unique_values\": 8,\n        \"samples\": [\n          104.86,\n          83.06,\n          17898.0\n        ],\n        \"semantic_type\": \"\",\n        \"description\": \"\"\n      }\n    },\n    {\n      \"column\": \"target_class\",\n      \"properties\": {\n        \"dtype\": \"number\",\n        \"std\": 6327.828893570617,\n        \"min\": 0.0,\n        \"max\": 17898.0,\n        \"num_unique_values\": 5,\n        \"samples\": [\n          0.09,\n          1.0,\n          0.29\n        ],\n        \"semantic_type\": \"\",\n        \"description\": \"\"\n      }\n    }\n  ]\n}"
            }
          },
          "metadata": {},
          "execution_count": 69
        }
      ],
      "source": [
        "# menghasilkan rangkuman statistik deskriptif dari DataFrame df dengan nilai-nilai yang dibulatkan menjadi dua angka desimal\n",
        "\n",
        "round(df.describe(),2)"
      ]
    },
    {
      "cell_type": "code",
      "execution_count": 71,
      "metadata": {
        "colab": {
          "base_uri": "https://localhost:8080/",
          "height": 634
        },
        "id": "zhnZJSuuakCj",
        "outputId": "c12bcd58-ca40-4047-dcac-542a1cf0da7f"
      },
      "outputs": [
        {
          "output_type": "execute_result",
          "data": {
            "text/plain": [
              "Text(0, 0.5, 'DM-SNR Skewness')"
            ]
          },
          "metadata": {},
          "execution_count": 71
        },
        {
          "output_type": "display_data",
          "data": {
            "text/plain": [
              "<Figure size 2400x2000 with 8 Axes>"
            ],
            "image/png": "[encoded data removed]"
          },
          "metadata": {}
        }
      ],
      "source": [
        "# draw boxplots to visualize outliers\n",
        "\n",
        "plt.figure(figsize=(24,20)) #membuat gambar baru dengan ukuran lebar 24 inch dan tinggi 20 inch\n",
        "\n",
        "#menetapkan subplot di baris ke-4 dan kolom ke-2, kemudian membuat box plot dari kolom 'IP Mean', menghapus judul box plot, dan menetapkan label sumbu y menjadi IP Mean'\n",
        "\n",
        "plt.subplot(4, 2, 1)\n",
        "fig = df.boxplot(column='IP Mean')\n",
        "fig.set_title('')\n",
        "fig.set_ylabel('IP Mean')\n",
        "\n",
        "#menetapkan subplot di baris ke-4 dan kolom ke-2, kemudian membuat box plot dari kolom 'IP Sd', menghapus judul box plot, dan menetapkan label sumbu y menjadi 'IP Sd'\n",
        "\n",
        "plt.subplot(4, 2, 2)\n",
        "fig = df.boxplot(column='IP Sd')\n",
        "fig.set_title('')\n",
        "fig.set_ylabel('IP Sd')\n",
        "\n",
        "#menetapkan subplot di baris ke-4 dan kolom ke-2, kemudian membuat box plot dari kolom 'IP Kurtosis', menghapus judul box plot, dan menetapkan label sumbu y menjadi 'IP Kurtosis'\n",
        "\n",
        "plt.subplot(4, 2, 3)\n",
        "fig = df.boxplot(column='IP Kurtosis')\n",
        "fig.set_title('')\n",
        "fig.set_ylabel('IP Kurtosis')\n",
        "\n",
        "#menetapkan subplot di baris ke-4 dan kolom ke-2, kemudian membuat box plot dari kolom 'IP Skewness', menghapus judul box plot, dan menetapkan label sumbu y menjadi 'IP Skewness'\n",
        "\n",
        "plt.subplot(4, 2, 4)\n",
        "fig = df.boxplot(column='IP Skewness')\n",
        "fig.set_title('')\n",
        "fig.set_ylabel('IP Skewness')\n",
        "\n",
        "#menetapkan subplot di baris ke-4 dan kolom ke-2, kemudian membuat box plot dari kolom 'DM-SNR Mean', menghapus judul box plot, dan menetapkan label sumbu y menjadi 'DM-SNR Mean'\n",
        "\n",
        "plt.subplot(4, 2, 5)\n",
        "fig = df.boxplot(column='DM-SNR Mean')\n",
        "fig.set_title('')\n",
        "fig.set_ylabel('DM-SNR Mean')\n",
        "\n",
        "#menetapkan subplot di baris ke-4 dan kolom ke-2, kemudian membuat box plot dari kolom 'DM-SNR Sd', menghapus judul box plot, dan menetapkan label sumbu y menjadi 'DM-SNR Sd'\n",
        "\n",
        "plt.subplot(4, 2, 6)\n",
        "fig = df.boxplot(column='DM-SNR Sd')\n",
        "fig.set_title('')\n",
        "fig.set_ylabel('DM-SNR Sd')\n",
        "\n",
        "#menetapkan subplot di baris ke-4 dan kolom ke-2, kemudian membuat box plot dari kolom 'DM-SNR Kurtosis', menghapus judul box plot, dan menetapkan label sumbu y menjadi 'DM-SNR Kurtosis'\n",
        "\n",
        "plt.subplot(4, 2, 7)\n",
        "fig = df.boxplot(column='DM-SNR Kurtosis')\n",
        "fig.set_title('')\n",
        "fig.set_ylabel('DM-SNR Kurtosis')\n",
        "\n",
        "#menetapkan subplot di baris ke-4 dan kolom ke-2, kemudian membuat box plot dari kolom 'DM-SNR Skewness', menghapus judul box plot, dan menetapkan label sumbu y menjadi 'DM-SNR Skewness'\n",
        "\n",
        "plt.subplot(4, 2, 8)\n",
        "fig = df.boxplot(column='DM-SNR Skewness')\n",
        "fig.set_title('')\n",
        "fig.set_ylabel('DM-SNR Skewness')"
      ]
    },
    {
      "cell_type": "code",
      "execution_count": 72,
      "metadata": {
        "colab": {
          "base_uri": "https://localhost:8080/",
          "height": 635
        },
        "id": "ztstHVOVanfK",
        "outputId": "8dcbc96f-37ee-49ca-d604-d9f130c996d6"
      },
      "outputs": [
        {
          "output_type": "execute_result",
          "data": {
            "text/plain": [
              "Text(0, 0.5, 'Number of pulsar stars')"
            ]
          },
          "metadata": {},
          "execution_count": 72
        },
        {
          "output_type": "display_data",
          "data": {
            "text/plain": [
              "<Figure size 2400x2000 with 8 Axes>"
            ],
            "image/png": "[encoded data removed]"
          },
          "metadata": {}
        }
      ],
      "source": [
        "# plot histogram to check distribution\n",
        "#membuat sebuah gambar baru dengan ukuran lebar 24 inch dan tinggi 20 inch\n",
        "plt.figure(figsize=(24,20))\n",
        "\n",
        "#membuat histogram dari kolom 'IP Mean' dalam DataFrame df, menetapkan label sumbu x dan y, dan menampilkan histogram di subplot pertama pada gambar.\n",
        "plt.subplot(4, 2, 1)\n",
        "fig = df['IP Mean'].hist(bins=20)\n",
        "fig.set_xlabel('IP Mean')\n",
        "fig.set_ylabel('Number of pulsar stars')\n",
        "\n",
        "# membuat histogram dari kolom 'IP Sd' dalam DataFrame df, menetapkan label sumbu x dan y, dan menampilkan histogram di subplot kedua pada gambar.\n",
        "plt.subplot(4, 2, 2)\n",
        "fig = df['IP Sd'].hist(bins=20)\n",
        "fig.set_xlabel('IP Sd')\n",
        "fig.set_ylabel('Number of pulsar stars')\n",
        "\n",
        "#membuat histogram dari kolom 'IP Kurtosis' dalam DataFrame df, menetapkan label sumbu x dan y, dan menampilkan histogram di subplot ketiga pada gambar.\n",
        "plt.subplot(4, 2, 3)\n",
        "fig = df['IP Kurtosis'].hist(bins=20)\n",
        "fig.set_xlabel('IP Kurtosis')\n",
        "fig.set_ylabel('Number of pulsar stars')\n",
        "\n",
        "#membuat histogram dari kolom 'IP Skewness' dalam DataFrame df, menetapkan label sumbu x dan y, dan menampilkan histogram di subplot keempat pada gambar.\n",
        "plt.subplot(4, 2, 4)\n",
        "fig = df['IP Skewness'].hist(bins=20)\n",
        "fig.set_xlabel('IP Skewness')\n",
        "fig.set_ylabel('Number of pulsar stars')\n",
        "\n",
        "#membuat histogram dari kolom 'DM-SNR Mean' dalam DataFrame df, menetapkan label sumbu x dan y, dan menampilkan histogram di subplot kelima pada gambar.\n",
        "plt.subplot(4, 2, 5)\n",
        "fig = df['DM-SNR Mean'].hist(bins=20)\n",
        "fig.set_xlabel('DM-SNR Mean')\n",
        "fig.set_ylabel('Number of pulsar stars')\n",
        "\n",
        "#membuat histogram dari kolom 'DM-SNR Sd' dalam DataFrame df, menetapkan label sumbu x dan y, dan menampilkan histogram di subplot keenam pada gambar.\n",
        "plt.subplot(4, 2, 6)\n",
        "fig = df['DM-SNR Sd'].hist(bins=20)\n",
        "fig.set_xlabel('DM-SNR Sd')\n",
        "fig.set_ylabel('Number of pulsar stars')\n",
        "\n",
        "#membuat histogram dari kolom 'DM-SNR Kurtosis' dalam DataFrame df, menetapkan label sumbu x dan y, dan menampilkan histogram di subplot ketujuh pada gambar.\n",
        "plt.subplot(4, 2, 7)\n",
        "fig = df['DM-SNR Kurtosis'].hist(bins=20)\n",
        "fig.set_xlabel('DM-SNR Kurtosis')\n",
        "fig.set_ylabel('Number of pulsar stars')\n",
        "\n",
        "# membuat histogram dari kolom 'DM-SNR Skewness' dalam DataFrame df, menetapkan label sumbu x dan y, dan menampilkan histogram di subplot kedelapan pada gambar.\n",
        "plt.subplot(4, 2, 8)\n",
        "fig = df['DM-SNR Skewness'].hist(bins=20)\n",
        "fig.set_xlabel('DM-SNR Skewness')\n",
        "fig.set_ylabel('Number of pulsar stars')"
      ]
    },
    {
      "cell_type": "code",
      "execution_count": 73,
      "metadata": {
        "id": "RyhWuCsNatQD"
      },
      "outputs": [],
      "source": [
        "#X akan berisi fitur-fitur data tanpa kolom target, sedangkan y akan berisi label target.\n",
        "X = df.drop(['target_class'], axis=1)\n",
        "\n",
        "y = df['target_class']"
      ]
    },
    {
      "cell_type": "code",
      "execution_count": 74,
      "metadata": {
        "id": "VUM6Se6MawCD"
      },
      "outputs": [],
      "source": [
        "# split X and y into training and testing sets\n",
        "\n",
        "from sklearn.model_selection import train_test_split\n",
        "\n",
        "X_train, X_test, y_train, y_test = train_test_split(X, y, test_size = 0.2, random_state = 0)"
      ]
    },
    {
      "cell_type": "code",
      "execution_count": 76,
      "metadata": {
        "colab": {
          "base_uri": "https://localhost:8080/"
        },
        "id": "Ebg0G78qa0zz",
        "outputId": "34fc0819-c20d-4347-8626-ecb898fb47ec"
      },
      "outputs": [
        {
          "output_type": "execute_result",
          "data": {
            "text/plain": [
              "((14318, 8), (3580, 8))"
            ]
          },
          "metadata": {},
          "execution_count": 76
        }
      ],
      "source": [
        "# check the shape of X_train and X_test\n",
        "#informasi tentang jumlah baris dan kolom dari data fitur untuk pelatihan (X_train) dan pengujian (X_test) secara berurutan.\n",
        "X_train.shape, X_test.shape"
      ]
    },
    {
      "cell_type": "code",
      "execution_count": 77,
      "metadata": {
        "id": "DP9DvF69a4ZL"
      },
      "outputs": [],
      "source": [
        "#cols akan berisi daftar nama kolom yang ada dalam DataFrame X_train.\n",
        "cols = X_train.columns"
      ]
    },
    {
      "cell_type": "code",
      "execution_count": 78,
      "metadata": {
        "id": "PPPAscFca6dT"
      },
      "outputs": [],
      "source": [
        "#mengimpor kelas StandardScaler dari modul preprocessing di scikit-learn.\n",
        "from sklearn.preprocessing import StandardScaler\n",
        "#membuat objek scaler yang akan digunakan untuk penskalaan fitur.\n",
        "scaler = StandardScaler()\n",
        "#menghitung rata-rata dan standar deviasi dari setiap fitur di X_train, lalu melakukan penskalaan dengan mengurangkan rata-rata dan membagi dengan standar deviasi.\n",
        "X_train = scaler.fit_transform(X_train)\n",
        "#menggunakan rata-rata dan standar deviasi yang telah dihitung dari data latih untuk melakukan penskalaan pada data uji, sehingga memastikan penskalaan yang konsisten dengan data latih.\n",
        "X_test = scaler.transform(X_test)"
      ]
    },
    {
      "cell_type": "code",
      "execution_count": 80,
      "metadata": {
        "id": "VoogW4TCa8ES"
      },
      "outputs": [],
      "source": [
        "#menciptakan sebuah DataFrame baru X_train dari data yang telah diubah skala X_train, dengan menetapkan nama kolomnya menggunakan daftar nama kolom dari DataFrame asli X_train yang disimpan dalam variabel cols.\n",
        "X_train = pd.DataFrame(X_train, columns=[cols])"
      ]
    },
    {
      "cell_type": "code",
      "execution_count": 79,
      "metadata": {
        "id": "yGkgwowOa-dC"
      },
      "outputs": [],
      "source": [
        "#menciptakan sebuah DataFrame baru X_test dari data yang telah diubah skala X_test, dengan menetapkan nama kolomnya menggunakan daftar nama kolom dari DataFrame asli X_test yang disimpan dalam variabel cols.\n",
        "X_test = pd.DataFrame(X_test, columns=[cols])"
      ]
    },
    {
      "cell_type": "code",
      "execution_count": 81,
      "metadata": {
        "colab": {
          "base_uri": "https://localhost:8080/",
          "height": 424
        },
        "id": "bEYlE0MqbAUa",
        "outputId": "80166c51-17c2-47cf-93a8-f927b62a20fb"
      },
      "outputs": [
        {
          "output_type": "execute_result",
          "data": {
            "text/plain": [
              "            IP Mean         IP Sd   IP Kurtosis   IP Skewness   DM-SNR Mean  \\\n",
              "count  1.431800e+04  1.431800e+04  1.431800e+04  1.431800e+04  1.431800e+04   \n",
              "mean   1.908113e-16 -6.550610e-16  1.042143e-17  3.870815e-17 -8.734147e-17   \n",
              "std    1.000035e+00  1.000035e+00  1.000035e+00  1.000035e+00  1.000035e+00   \n",
              "min   -4.035499e+00 -3.181033e+00 -2.185946e+00 -5.744051e-01 -4.239001e-01   \n",
              "25%   -3.896291e-01 -6.069473e-01 -4.256221e-01 -3.188054e-01 -3.664918e-01   \n",
              "50%    1.587461e-01  5.846646e-02 -2.453172e-01 -2.578142e-01 -3.372294e-01   \n",
              "75%    6.267059e-01  6.501017e-01 -1.001238e-02 -1.419621e-01 -2.463724e-01   \n",
              "max    3.151882e+00  7.621116e+00  7.008906e+00  1.054430e+01  7.025568e+00   \n",
              "\n",
              "          DM-SNR Sd DM-SNR Kurtosis DM-SNR Skewness  \n",
              "count  1.431800e+04    1.431800e+04    1.431800e+04  \n",
              "mean  -1.617802e-16   -1.513588e-17    1.122785e-16  \n",
              "std    1.000035e+00    1.000035e+00    1.000035e+00  \n",
              "min   -9.733707e-01   -2.455649e+00   -1.003411e+00  \n",
              "25%   -6.125457e-01   -5.641035e-01   -6.627590e-01  \n",
              "50%   -4.067482e-01    3.170446e-02   -2.059136e-01  \n",
              "75%    1.078934e-01    5.362759e-01    3.256217e-01  \n",
              "max    4.292181e+00    5.818557e+00    1.024613e+01  "
            ],
            "text/html": [
              "\n",
              "  <div id=\"df-c5fc3805-87dd-4827-b96c-a4e0f8b86637\" class=\"colab-df-container\">\n",
              "    <div>\n",
              "<style scoped>\n",
              "    .dataframe tbody tr th:only-of-type {\n",
              "        vertical-align: middle;\n",
              "    }\n",
              "\n",
              "    .dataframe tbody tr th {\n",
              "        vertical-align: top;\n",
              "    }\n",
              "\n",
              "    .dataframe thead tr th {\n",
              "        text-align: left;\n",
              "    }\n",
              "</style>\n",
              "<table border=\"1\" class=\"dataframe\">\n",
              "  <thead>\n",
              "    <tr>\n",
              "      <th></th>\n",
              "      <th>IP Mean</th>\n",
              "      <th>IP Sd</th>\n",
              "      <th>IP Kurtosis</th>\n",
              "      <th>IP Skewness</th>\n",
              "      <th>DM-SNR Mean</th>\n",
              "      <th>DM-SNR Sd</th>\n",
              "      <th>DM-SNR Kurtosis</th>\n",
              "      <th>DM-SNR Skewness</th>\n",
              "    </tr>\n",
              "  </thead>\n",
              "  <tbody>\n",
              "    <tr>\n",
              "      <th>count</th>\n",
              "      <td>1.431800e+04</td>\n",
              "      <td>1.431800e+04</td>\n",
              "      <td>1.431800e+04</td>\n",
              "      <td>1.431800e+04</td>\n",
              "      <td>1.431800e+04</td>\n",
              "      <td>1.431800e+04</td>\n",
              "      <td>1.431800e+04</td>\n",
              "      <td>1.431800e+04</td>\n",
              "    </tr>\n",
              "    <tr>\n",
              "      <th>mean</th>\n",
              "      <td>1.908113e-16</td>\n",
              "      <td>-6.550610e-16</td>\n",
              "      <td>1.042143e-17</td>\n",
              "      <td>3.870815e-17</td>\n",
              "      <td>-8.734147e-17</td>\n",
              "      <td>-1.617802e-16</td>\n",
              "      <td>-1.513588e-17</td>\n",
              "      <td>1.122785e-16</td>\n",
              "    </tr>\n",
              "    <tr>\n",
              "      <th>std</th>\n",
              "      <td>1.000035e+00</td>\n",
              "      <td>1.000035e+00</td>\n",
              "      <td>1.000035e+00</td>\n",
              "      <td>1.000035e+00</td>\n",
              "      <td>1.000035e+00</td>\n",
              "      <td>1.000035e+00</td>\n",
              "      <td>1.000035e+00</td>\n",
              "      <td>1.000035e+00</td>\n",
              "    </tr>\n",
              "    <tr>\n",
              "      <th>min</th>\n",
              "      <td>-4.035499e+00</td>\n",
              "      <td>-3.181033e+00</td>\n",
              "      <td>-2.185946e+00</td>\n",
              "      <td>-5.744051e-01</td>\n",
              "      <td>-4.239001e-01</td>\n",
              "      <td>-9.733707e-01</td>\n",
              "      <td>-2.455649e+00</td>\n",
              "      <td>-1.003411e+00</td>\n",
              "    </tr>\n",
              "    <tr>\n",
              "      <th>25%</th>\n",
              "      <td>-3.896291e-01</td>\n",
              "      <td>-6.069473e-01</td>\n",
              "      <td>-4.256221e-01</td>\n",
              "      <td>-3.188054e-01</td>\n",
              "      <td>-3.664918e-01</td>\n",
              "      <td>-6.125457e-01</td>\n",
              "      <td>-5.641035e-01</td>\n",
              "      <td>-6.627590e-01</td>\n",
              "    </tr>\n",
              "    <tr>\n",
              "      <th>50%</th>\n",
              "      <td>1.587461e-01</td>\n",
              "      <td>5.846646e-02</td>\n",
              "      <td>-2.453172e-01</td>\n",
              "      <td>-2.578142e-01</td>\n",
              "      <td>-3.372294e-01</td>\n",
              "      <td>-4.067482e-01</td>\n",
              "      <td>3.170446e-02</td>\n",
              "      <td>-2.059136e-01</td>\n",
              "    </tr>\n",
              "    <tr>\n",
              "      <th>75%</th>\n",
              "      <td>6.267059e-01</td>\n",
              "      <td>6.501017e-01</td>\n",
              "      <td>-1.001238e-02</td>\n",
              "      <td>-1.419621e-01</td>\n",
              "      <td>-2.463724e-01</td>\n",
              "      <td>1.078934e-01</td>\n",
              "      <td>5.362759e-01</td>\n",
              "      <td>3.256217e-01</td>\n",
              "    </tr>\n",
              "    <tr>\n",
              "      <th>max</th>\n",
              "      <td>3.151882e+00</td>\n",
              "      <td>7.621116e+00</td>\n",
              "      <td>7.008906e+00</td>\n",
              "      <td>1.054430e+01</td>\n",
              "      <td>7.025568e+00</td>\n",
              "      <td>4.292181e+00</td>\n",
              "      <td>5.818557e+00</td>\n",
              "      <td>1.024613e+01</td>\n",
              "    </tr>\n",
              "  </tbody>\n",
              "</table>\n",
              "</div>\n",
              "    <div class=\"colab-df-buttons\">\n",
              "\n",
              "  <div class=\"colab-df-container\">\n",
              "    <button class=\"colab-df-convert\" onclick=\"convertToInteractive('df-c5fc3805-87dd-4827-b96c-a4e0f8b86637')\"\n",
              "            title=\"Convert this dataframe to an interactive table.\"\n",
              "            style=\"display:none;\">\n",
              "\n",
              "  <svg xmlns=\"http://www.w3.org/2000/svg\" height=\"24px\" viewBox=\"0 -960 960 960\">\n",
              "    <path d=\"M120-120v-720h720v720H120Zm60-500h600v-160H180v160Zm220 220h160v-160H400v160Zm0 220h160v-160H400v160ZM180-400h160v-160H180v160Zm440 0h160v-160H620v160ZM180-180h160v-160H180v160Zm440 0h160v-160H620v160Z\"/>\n",
              "  </svg>\n",
              "    </button>\n",
              "\n",
              "  <style>\n",
              "    .colab-df-container {\n",
              "      display:flex;\n",
              "      gap: 12px;\n",
              "    }\n",
              "\n",
              "    .colab-df-convert {\n",
              "      background-color: #E8F0FE;\n",
              "      border: none;\n",
              "      border-radius: 50%;\n",
              "      cursor: pointer;\n",
              "      display: none;\n",
              "      fill: #1967D2;\n",
              "      height: 32px;\n",
              "      padding: 0 0 0 0;\n",
              "      width: 32px;\n",
              "    }\n",
              "\n",
              "    .colab-df-convert:hover {\n",
              "      background-color: #E2EBFA;\n",
              "      box-shadow: 0px 1px 2px rgba(60, 64, 67, 0.3), 0px 1px 3px 1px rgba(60, 64, 67, 0.15);\n",
              "      fill: #174EA6;\n",
              "    }\n",
              "\n",
              "    .colab-df-buttons div {\n",
              "      margin-bottom: 4px;\n",
              "    }\n",
              "\n",
              "    [theme=dark] .colab-df-convert {\n",
              "      background-color: #3B4455;\n",
              "      fill: #D2E3FC;\n",
              "    }\n",
              "\n",
              "    [theme=dark] .colab-df-convert:hover {\n",
              "      background-color: #434B5C;\n",
              "      box-shadow: 0px 1px 3px 1px rgba(0, 0, 0, 0.15);\n",
              "      filter: drop-shadow(0px 1px 2px rgba(0, 0, 0, 0.3));\n",
              "      fill: #FFFFFF;\n",
              "    }\n",
              "  </style>\n",
              "\n",
              "    <script>\n",
              "      const buttonEl =\n",
              "        document.querySelector('#df-c5fc3805-87dd-4827-b96c-a4e0f8b86637 button.colab-df-convert');\n",
              "      buttonEl.style.display =\n",
              "        google.colab.kernel.accessAllowed ? 'block' : 'none';\n",
              "\n",
              "      async function convertToInteractive(key) {\n",
              "        const element = document.querySelector('#df-c5fc3805-87dd-4827-b96c-a4e0f8b86637');\n",
              "        const dataTable =\n",
              "          await google.colab.kernel.invokeFunction('convertToInteractive',\n",
              "                                                    [key], {});\n",
              "        if (!dataTable) return;\n",
              "\n",
              "        const docLinkHtml = 'Like what you see? Visit the ' +\n",
              "          '<a target=\"_blank\" href=https://colab.research.google.com/notebooks/data_table.ipynb>data table notebook</a>'\n",
              "          + ' to learn more about interactive tables.';\n",
              "        element.innerHTML = '';\n",
              "        dataTable['output_type'] = 'display_data';\n",
              "        await google.colab.output.renderOutput(dataTable, element);\n",
              "        const docLink = document.createElement('div');\n",
              "        docLink.innerHTML = docLinkHtml;\n",
              "        element.appendChild(docLink);\n",
              "      }\n",
              "    </script>\n",
              "  </div>\n",
              "\n",
              "\n",
              "<div id=\"df-c0fbd88e-8e87-4469-b2e0-0c7ae868332a\">\n",
              "  <button class=\"colab-df-quickchart\" onclick=\"quickchart('df-c0fbd88e-8e87-4469-b2e0-0c7ae868332a')\"\n",
              "            title=\"Suggest charts\"\n",
              "            style=\"display:none;\">\n",
              "\n",
              "<svg xmlns=\"http://www.w3.org/2000/svg\" height=\"24px\"viewBox=\"0 0 24 24\"\n",
              "     width=\"24px\">\n",
              "    <g>\n",
              "        <path d=\"M19 3H5c-1.1 0-2 .9-2 2v14c0 1.1.9 2 2 2h14c1.1 0 2-.9 2-2V5c0-1.1-.9-2-2-2zM9 17H7v-7h2v7zm4 0h-2V7h2v10zm4 0h-2v-4h2v4z\"/>\n",
              "    </g>\n",
              "</svg>\n",
              "  </button>\n",
              "\n",
              "<style>\n",
              "  .colab-df-quickchart {\n",
              "      --bg-color: #E8F0FE;\n",
              "      --fill-color: #1967D2;\n",
              "      --hover-bg-color: #E2EBFA;\n",
              "      --hover-fill-color: #174EA6;\n",
              "      --disabled-fill-color: #AAA;\n",
              "      --disabled-bg-color: #DDD;\n",
              "  }\n",
              "\n",
              "  [theme=dark] .colab-df-quickchart {\n",
              "      --bg-color: #3B4455;\n",
              "      --fill-color: #D2E3FC;\n",
              "      --hover-bg-color: #434B5C;\n",
              "      --hover-fill-color: #FFFFFF;\n",
              "      --disabled-bg-color: #3B4455;\n",
              "      --disabled-fill-color: #666;\n",
              "  }\n",
              "\n",
              "  .colab-df-quickchart {\n",
              "    background-color: var(--bg-color);\n",
              "    border: none;\n",
              "    border-radius: 50%;\n",
              "    cursor: pointer;\n",
              "    display: none;\n",
              "    fill: var(--fill-color);\n",
              "    height: 32px;\n",
              "    padding: 0;\n",
              "    width: 32px;\n",
              "  }\n",
              "\n",
              "  .colab-df-quickchart:hover {\n",
              "    background-color: var(--hover-bg-color);\n",
              "    box-shadow: 0 1px 2px rgba(60, 64, 67, 0.3), 0 1px 3px 1px rgba(60, 64, 67, 0.15);\n",
              "    fill: var(--button-hover-fill-color);\n",
              "  }\n",
              "\n",
              "  .colab-df-quickchart-complete:disabled,\n",
              "  .colab-df-quickchart-complete:disabled:hover {\n",
              "    background-color: var(--disabled-bg-color);\n",
              "    fill: var(--disabled-fill-color);\n",
              "    box-shadow: none;\n",
              "  }\n",
              "\n",
              "  .colab-df-spinner {\n",
              "    border: 2px solid var(--fill-color);\n",
              "    border-color: transparent;\n",
              "    border-bottom-color: var(--fill-color);\n",
              "    animation:\n",
              "      spin 1s steps(1) infinite;\n",
              "  }\n",
              "\n",
              "  @keyframes spin {\n",
              "    0% {\n",
              "      border-color: transparent;\n",
              "      border-bottom-color: var(--fill-color);\n",
              "      border-left-color: var(--fill-color);\n",
              "    }\n",
              "    20% {\n",
              "      border-color: transparent;\n",
              "      border-left-color: var(--fill-color);\n",
              "      border-top-color: var(--fill-color);\n",
              "    }\n",
              "    30% {\n",
              "      border-color: transparent;\n",
              "      border-left-color: var(--fill-color);\n",
              "      border-top-color: var(--fill-color);\n",
              "      border-right-color: var(--fill-color);\n",
              "    }\n",
              "    40% {\n",
              "      border-color: transparent;\n",
              "      border-right-color: var(--fill-color);\n",
              "      border-top-color: var(--fill-color);\n",
              "    }\n",
              "    60% {\n",
              "      border-color: transparent;\n",
              "      border-right-color: var(--fill-color);\n",
              "    }\n",
              "    80% {\n",
              "      border-color: transparent;\n",
              "      border-right-color: var(--fill-color);\n",
              "      border-bottom-color: var(--fill-color);\n",
              "    }\n",
              "    90% {\n",
              "      border-color: transparent;\n",
              "      border-bottom-color: var(--fill-color);\n",
              "    }\n",
              "  }\n",
              "</style>\n",
              "\n",
              "  <script>\n",
              "    async function quickchart(key) {\n",
              "      const quickchartButtonEl =\n",
              "        document.querySelector('#' + key + ' button');\n",
              "      quickchartButtonEl.disabled = true;  // To prevent multiple clicks.\n",
              "      quickchartButtonEl.classList.add('colab-df-spinner');\n",
              "      try {\n",
              "        const charts = await google.colab.kernel.invokeFunction(\n",
              "            'suggestCharts', [key], {});\n",
              "      } catch (error) {\n",
              "        console.error('Error during call to suggestCharts:', error);\n",
              "      }\n",
              "      quickchartButtonEl.classList.remove('colab-df-spinner');\n",
              "      quickchartButtonEl.classList.add('colab-df-quickchart-complete');\n",
              "    }\n",
              "    (() => {\n",
              "      let quickchartButtonEl =\n",
              "        document.querySelector('#df-c0fbd88e-8e87-4469-b2e0-0c7ae868332a button');\n",
              "      quickchartButtonEl.style.display =\n",
              "        google.colab.kernel.accessAllowed ? 'block' : 'none';\n",
              "    })();\n",
              "  </script>\n",
              "</div>\n",
              "    </div>\n",
              "  </div>\n"
            ],
            "application/vnd.google.colaboratory.intrinsic+json": {
              "type": "dataframe",
              "summary": "{\n  \"name\": \"X_train\",\n  \"rows\": 8,\n  \"fields\": [\n    {\n      \"column\": [\n        \"IP Mean\"\n      ],\n      \"properties\": {\n        \"dtype\": \"number\",\n        \"std\": 5062.151966047376,\n        \"min\": -4.035499361808347,\n        \"max\": 14318.0,\n        \"num_unique_values\": 8,\n        \"samples\": [\n          1.908113436930846e-16,\n          0.15874609205578563,\n          14318.0\n        ],\n        \"semantic_type\": \"\",\n        \"description\": \"\"\n      }\n    },\n    {\n      \"column\": [\n        \"IP Sd\"\n      ],\n      \"properties\": {\n        \"dtype\": \"number\",\n        \"std\": 5061.898472207416,\n        \"min\": -3.1810325626780758,\n        \"max\": 14318.0,\n        \"num_unique_values\": 8,\n        \"samples\": [\n          -6.550610498696272e-16,\n          0.058466463102824454,\n          14318.0\n        ],\n        \"semantic_type\": \"\",\n        \"description\": \"\"\n      }\n    },\n    {\n      \"column\": [\n        \"IP Kurtosis\"\n      ],\n      \"properties\": {\n        \"dtype\": \"number\",\n        \"std\": 5061.918458942622,\n        \"min\": -2.185946021380508,\n        \"max\": 14318.0,\n        \"num_unique_values\": 8,\n        \"samples\": [\n          1.0421425793380433e-17,\n          -0.24531718983789905,\n          14318.0\n        ],\n        \"semantic_type\": \"\",\n        \"description\": \"\"\n      }\n    },\n    {\n      \"column\": [\n        \"IP Skewness\"\n      ],\n      \"properties\": {\n        \"dtype\": \"number\",\n        \"std\": 5061.661053725386,\n        \"min\": -0.5744050935591997,\n        \"max\": 14318.0,\n        \"num_unique_values\": 8,\n        \"samples\": [\n          3.870815294684161e-17,\n          -0.2578142295369455,\n          14318.0\n        ],\n        \"semantic_type\": \"\",\n        \"description\": \"\"\n      }\n    },\n    {\n      \"column\": [\n        \"DM-SNR Mean\"\n      ],\n      \"properties\": {\n        \"dtype\": \"number\",\n        \"std\": 5061.842117834414,\n        \"min\": -0.4239001377274741,\n        \"max\": 14318.0,\n        \"num_unique_values\": 8,\n        \"samples\": [\n          -8.73414733159503e-17,\n          -0.3372294119537138,\n          14318.0\n        ],\n        \"semantic_type\": \"\",\n        \"description\": \"\"\n      }\n    },\n    {\n      \"column\": [\n        \"DM-SNR Sd\"\n      ],\n      \"properties\": {\n        \"dtype\": \"number\",\n        \"std\": 5062.005616408722,\n        \"min\": -0.9733706951703793,\n        \"max\": 14318.0,\n        \"num_unique_values\": 8,\n        \"samples\": [\n          -1.6178022898295338e-16,\n          -0.40674815537852693,\n          14318.0\n        ],\n        \"semantic_type\": \"\",\n        \"description\": \"\"\n      }\n    },\n    {\n      \"column\": [\n        \"DM-SNR Kurtosis\"\n      ],\n      \"properties\": {\n        \"dtype\": \"number\",\n        \"std\": 5061.957435855088,\n        \"min\": -2.455648647667141,\n        \"max\": 14318.0,\n        \"num_unique_values\": 8,\n        \"samples\": [\n          -1.5135880318957295e-17,\n          0.031704457322563356,\n          14318.0\n        ],\n        \"semantic_type\": \"\",\n        \"description\": \"\"\n      }\n    },\n    {\n      \"column\": [\n        \"DM-SNR Skewness\"\n      ],\n      \"properties\": {\n        \"dtype\": \"number\",\n        \"std\": 5061.688865918992,\n        \"min\": -1.0034105472256658,\n        \"max\": 14318.0,\n        \"num_unique_values\": 8,\n        \"samples\": [\n          1.1227845646439633e-16,\n          -0.20591362124882326,\n          14318.0\n        ],\n        \"semantic_type\": \"\",\n        \"description\": \"\"\n      }\n    }\n  ]\n}"
            }
          },
          "metadata": {},
          "execution_count": 81
        }
      ],
      "source": [
        "#ringkasan statistik deskriptif dari data latih X_train dalam DataFrame.\n",
        "X_train.describe()"
      ]
    },
    {
      "cell_type": "code",
      "execution_count": 115,
      "metadata": {
        "colab": {
          "base_uri": "https://localhost:8080/"
        },
        "id": "8zOLgwI5bB4r",
        "outputId": "3d47e00b-326c-41b6-cf64-e2080c298f52"
      },
      "outputs": [
        {
          "output_type": "stream",
          "name": "stdout",
          "text": [
            "Model accuracy score with default hyperparameters: 0.9827\n"
          ]
        }
      ],
      "source": [
        "# import SVC classifier\n",
        "from sklearn.svm import SVC\n",
        "\n",
        "\n",
        "# import metrics to compute accuracy\n",
        "from sklearn.metrics import accuracy_score\n",
        "\n",
        "\n",
        "# instantiate classifier with default hyperparameters\n",
        "svc=SVC()\n",
        "\n",
        "\n",
        "# fit classifier to training set\n",
        "svc.fit(X_train,y_train)\n",
        "\n",
        "\n",
        "# make predictions on test set\n",
        "y_pred=svc.predict(X_test)\n",
        "\n",
        "\n",
        "# compute and print accuracy score\n",
        "#mencetak akurasi model dengan menggunakan metrik accuracy_score pada data uji dan prediksi yang dihasilkan.\n",
        "print('Model accuracy score with default hyperparameters: {0:0.4f}'. format(accuracy_score(y_test, y_pred)))"
      ]
    },
    {
      "cell_type": "code",
      "execution_count": 117,
      "metadata": {
        "colab": {
          "base_uri": "https://localhost:8080/"
        },
        "id": "4Zz2YNqibFLS",
        "outputId": "89fb39c9-1849-4040-ca58-fdb0b049a397"
      },
      "outputs": [
        {
          "output_type": "stream",
          "name": "stdout",
          "text": [
            "Model accuracy score with rbf kernel and C=100.0 : 0.9832\n"
          ]
        }
      ],
      "source": [
        "# instantiate classifier with rbf kernel and C=100\n",
        "#membuat objek SVC dengan parameter C yang ditetapkan sebagai 100.0. Parameter C mengontrol trade-off antara margin yang lebih besar dan penalti yang lebih besar terhadap kesalahan klasifikasi yang tidak sesuai.\n",
        "svc=SVC(C=100.0)\n",
        "\n",
        "\n",
        "# fit classifier to training set\n",
        "svc.fit(X_train,y_train)\n",
        "\n",
        "\n",
        "# make predictions on test set\n",
        "y_pred=svc.predict(X_test)\n",
        "\n",
        "\n",
        "# compute and print accuracy score\n",
        "# mencetak akurasi model dengan menggunakan metrik accuracy_score pada data uji dan prediksi yang dihasilkan dengan menggunakan kernel rbf dan parameter C=100.0.\n",
        "print('Model accuracy score with rbf kernel and C=100.0 : {0:0.4f}'. format(accuracy_score(y_test, y_pred)))"
      ]
    },
    {
      "cell_type": "code",
      "execution_count": 118,
      "metadata": {
        "colab": {
          "base_uri": "https://localhost:8080/"
        },
        "id": "x-Bg4dbEbHfr",
        "outputId": "48d450c6-d163-4d58-b11b-867c5cd9ba77"
      },
      "outputs": [
        {
          "output_type": "stream",
          "name": "stdout",
          "text": [
            "Model accuracy score with rbf kernel and C=1000.0 : 0.9816\n"
          ]
        }
      ],
      "source": [
        "# instantiate classifier with rbf kernel and C=1000\n",
        "svc=SVC(C=1000.0)\n",
        "\n",
        "\n",
        "# fit classifier to training set\n",
        "svc.fit(X_train,y_train)\n",
        "\n",
        "\n",
        "# make predictions on test set\n",
        "y_pred=svc.predict(X_test)\n",
        "\n",
        "\n",
        "# compute and print accuracy score\n",
        "print('Model accuracy score with rbf kernel and C=1000.0 : {0:0.4f}'. format(accuracy_score(y_test, y_pred)))"
      ]
    },
    {
      "cell_type": "code",
      "execution_count": 119,
      "metadata": {
        "colab": {
          "base_uri": "https://localhost:8080/"
        },
        "id": "gzRuEtTRbK3T",
        "outputId": "d8665897-8bb1-4145-cf2b-1362bd204b7d"
      },
      "outputs": [
        {
          "output_type": "stream",
          "name": "stdout",
          "text": [
            "Model accuracy score with linear kernel and C=1.0 : 0.9830\n"
          ]
        }
      ],
      "source": [
        "# membuat objek SVC dengan kernel linear dan parameter C yang ditetapkan sebagai 1.0. Dalam SVM, kernel linear digunakan untuk menentukan keputusan dengan cara mencari garis pemisah linear terbaik.\n",
        "linear_svc=SVC(kernel='linear', C=1.0)\n",
        "\n",
        "\n",
        "# melatih model SVC dengan kernel linear menggunakan data latih (X_train) dan label latih (y_train).\n",
        "linear_svc.fit(X_train,y_train)\n",
        "\n",
        "\n",
        "# menggunakan model yang dilatih untuk membuat prediksi menggunakan data uji (X_test).\n",
        "y_pred_test=linear_svc.predict(X_test)\n",
        "\n",
        "\n",
        "# mencetak akurasi model dengan menggunakan metrik accuracy_score pada data uji dan prediksi yang dihasilkan dengan menggunakan kernel linear dan parameter C=1.0.\n",
        "print('Model accuracy score with linear kernel and C=1.0 : {0:0.4f}'. format(accuracy_score(y_test, y_pred_test)))"
      ]
    },
    {
      "cell_type": "code",
      "execution_count": 120,
      "metadata": {
        "colab": {
          "base_uri": "https://localhost:8080/"
        },
        "id": "53rcH0nfbNaz",
        "outputId": "2217be6f-8910-44d1-f480-039d7cc23ef9"
      },
      "outputs": [
        {
          "output_type": "stream",
          "name": "stdout",
          "text": [
            "Model accuracy score with linear kernel and C=100.0 : 0.9832\n"
          ]
        }
      ],
      "source": [
        "# instantiate classifier with linear kernel and C=100.0\n",
        "linear_svc100=SVC(kernel='linear', C=100.0)\n",
        "\n",
        "\n",
        "# fit classifier to training set\n",
        "linear_svc100.fit(X_train, y_train)\n",
        "\n",
        "\n",
        "# make predictions on test set\n",
        "y_pred=linear_svc100.predict(X_test)\n",
        "\n",
        "\n",
        "# compute and print accuracy score\n",
        "print('Model accuracy score with linear kernel and C=100.0 : {0:0.4f}'. format(accuracy_score(y_test, y_pred)))"
      ]
    },
    {
      "cell_type": "code",
      "execution_count": 121,
      "metadata": {
        "colab": {
          "base_uri": "https://localhost:8080/"
        },
        "id": "vAmnKR5-bS20",
        "outputId": "04861371-923d-486a-cada-4d5fd93b4908"
      },
      "outputs": [
        {
          "output_type": "stream",
          "name": "stdout",
          "text": [
            "Model accuracy score with linear kernel and C=1000.0 : 0.9832\n"
          ]
        }
      ],
      "source": [
        "# instantiate classifier with linear kernel and C=1000.0\n",
        "linear_svc1000=SVC(kernel='linear', C=1000.0)\n",
        "\n",
        "\n",
        "# fit classifier to training set\n",
        "linear_svc1000.fit(X_train, y_train)\n",
        "\n",
        "\n",
        "# make predictions on test set\n",
        "y_pred=linear_svc1000.predict(X_test)\n",
        "\n",
        "\n",
        "# compute and print accuracy score\n",
        "print('Model accuracy score with linear kernel and C=1000.0 : {0:0.4f}'. format(accuracy_score(y_test, y_pred)))"
      ]
    },
    {
      "cell_type": "code",
      "execution_count": 122,
      "metadata": {
        "colab": {
          "base_uri": "https://localhost:8080/"
        },
        "id": "Xj6e_W0Nbbic",
        "outputId": "7b3c9dfb-7bc7-40c9-c87d-75da764a5cc6"
      },
      "outputs": [
        {
          "output_type": "execute_result",
          "data": {
            "text/plain": [
              "array([0, 0, 1, ..., 0, 0, 0])"
            ]
          },
          "metadata": {},
          "execution_count": 122
        }
      ],
      "source": [
        "#membuat prediksi terhadap data latih X_train menggunakan model yang telah dilatih dengan kernel linear.\n",
        "y_pred_train = linear_svc.predict(X_train)\n",
        "#menampilkan prediksi yang dihasilkan dari data latih.\n",
        "y_pred_train"
      ]
    },
    {
      "cell_type": "code",
      "execution_count": 123,
      "metadata": {
        "colab": {
          "base_uri": "https://localhost:8080/"
        },
        "id": "by_KwAnKbcG6",
        "outputId": "20ad1e54-adc1-4c4c-f4a4-e5c312607e6b"
      },
      "outputs": [
        {
          "output_type": "stream",
          "name": "stdout",
          "text": [
            "Training-set accuracy score: 0.9783\n"
          ]
        }
      ],
      "source": [
        "#mencetak akurasi model terhadap data latih dengan empat angka di belakang koma.\n",
        "print('Training-set accuracy score: {0:0.4f}'. format(accuracy_score(y_train, y_pred_train)))"
      ]
    },
    {
      "cell_type": "code",
      "execution_count": 124,
      "metadata": {
        "colab": {
          "base_uri": "https://localhost:8080/"
        },
        "id": "cCUxC0TqbenL",
        "outputId": "5d84e2a3-a425-4865-ee10-37fb74ffb214"
      },
      "outputs": [
        {
          "output_type": "stream",
          "name": "stdout",
          "text": [
            "Training set score: 0.9783\n",
            "Test set score: 0.9830\n"
          ]
        }
      ],
      "source": [
        "# print the scores on training and test set\n",
        "\n",
        "print('Training set score: {:.4f}'.format(linear_svc.score(X_train, y_train)))\n",
        "\n",
        "print('Test set score: {:.4f}'.format(linear_svc.score(X_test, y_test)))"
      ]
    },
    {
      "cell_type": "code",
      "execution_count": 126,
      "metadata": {
        "colab": {
          "base_uri": "https://localhost:8080/"
        },
        "id": "xOc45uJhbjEK",
        "outputId": "d75dfb97-cea9-48bc-b01a-52d3bc40a3be"
      },
      "outputs": [
        {
          "output_type": "execute_result",
          "data": {
            "text/plain": [
              "0    3306\n",
              "1     274\n",
              "Name: target_class, dtype: int64"
            ]
          },
          "metadata": {},
          "execution_count": 126
        }
      ],
      "source": [
        "# menghitung jumlah sampel untuk setiap kelas dalam data uji.\n",
        "\n",
        "y_test.value_counts()"
      ]
    },
    {
      "cell_type": "code",
      "execution_count": 127,
      "metadata": {
        "colab": {
          "base_uri": "https://localhost:8080/"
        },
        "id": "iu-Kyts-bjfK",
        "outputId": "f8e85bbb-b932-46bf-cfcd-37db0926b01a"
      },
      "outputs": [
        {
          "output_type": "stream",
          "name": "stdout",
          "text": [
            "Null accuracy score: 0.9235\n"
          ]
        }
      ],
      "source": [
        "# menghitung skor akurasi nol, yang merupakan proporsi sampel terbesar dalam data uji.\n",
        "null_accuracy = (3306/(3306+274))\n",
        "#mencetak skor akurasi nol dengan empat angka di belakang koma.\n",
        "print('Null accuracy score: {0:0.4f}'. format(null_accuracy))"
      ]
    },
    {
      "cell_type": "code",
      "execution_count": 128,
      "metadata": {
        "colab": {
          "base_uri": "https://localhost:8080/"
        },
        "id": "ITXDlPONblS6",
        "outputId": "99350ffb-6dde-49c9-91f7-5714e35538a6"
      },
      "outputs": [
        {
          "output_type": "stream",
          "name": "stdout",
          "text": [
            "Model accuracy score with polynomial kernel and C=1.0 : 0.9807\n"
          ]
        }
      ],
      "source": [
        "# membuat objek SVC dengan kernel polinomial dan parameter C yang ditetapkan sebagai 1.0. Kernel polinomial digunakan untuk menentukan keputusan dengan cara mencari pemisah non-linear berdasarkan fitur polinomial.\n",
        "poly_svc=SVC(kernel='poly', C=1.0)\n",
        "\n",
        "\n",
        "# melatih model SVC dengan kernel polinomial menggunakan data latih (X_train) dan label latih (y_train).\n",
        "poly_svc.fit(X_train,y_train)\n",
        "\n",
        "\n",
        "# menggunakan model yang dilatih untuk membuat prediksi menggunakan data uji (X_test).\n",
        "y_pred=poly_svc.predict(X_test)\n",
        "\n",
        "\n",
        "# mencetak akurasi model dengan menggunakan metrik accuracy_score pada data uji dan prediksi yang dihasilkan dengan menggunakan kernel polinomial dan parameter C=1.0.\n",
        "print('Model accuracy score with polynomial kernel and C=1.0 : {0:0.4f}'. format(accuracy_score(y_test, y_pred)))"
      ]
    },
    {
      "cell_type": "code",
      "execution_count": 129,
      "metadata": {
        "colab": {
          "base_uri": "https://localhost:8080/"
        },
        "id": "cVYl5Lh3br4D",
        "outputId": "1bc4db25-a67d-44ba-b46f-672380832433"
      },
      "outputs": [
        {
          "output_type": "stream",
          "name": "stdout",
          "text": [
            "Model accuracy score with polynomial kernel and C=1.0 : 0.9824\n"
          ]
        }
      ],
      "source": [
        "# instantiate classifier with polynomial kernel and C=100.0\n",
        "poly_svc100=SVC(kernel='poly', C=100.0)\n",
        "\n",
        "\n",
        "# fit classifier to training set\n",
        "poly_svc100.fit(X_train, y_train)\n",
        "\n",
        "\n",
        "# make predictions on test set\n",
        "y_pred=poly_svc100.predict(X_test)\n",
        "\n",
        "\n",
        "# compute and print accuracy score\n",
        "print('Model accuracy score with polynomial kernel and C=1.0 : {0:0.4f}'. format(accuracy_score(y_test, y_pred)))"
      ]
    },
    {
      "cell_type": "code",
      "execution_count": 130,
      "metadata": {
        "colab": {
          "base_uri": "https://localhost:8080/"
        },
        "id": "Hjt2jX0Ibuvz",
        "outputId": "7b7d2396-83d2-4eeb-bb8a-e268ffb5b425"
      },
      "outputs": [
        {
          "output_type": "stream",
          "name": "stdout",
          "text": [
            "Model accuracy score with sigmoid kernel and C=1.0 : 0.8858\n"
          ]
        }
      ],
      "source": [
        "#  membuat objek SVC dengan kernel sigmoid dan parameter C yang ditetapkan sebagai 1.0. Kernel sigmoid digunakan untuk menentukan keputusan dengan cara menggunakan fungsi sigmoid.\n",
        "sigmoid_svc=SVC(kernel='sigmoid', C=1.0)\n",
        "\n",
        "\n",
        "# melatih model SVC dengan kernel sigmoid menggunakan data latih (X_train) dan label latih (y_train).\n",
        "sigmoid_svc.fit(X_train,y_train)\n",
        "\n",
        "\n",
        "# menggunakan model yang dilatih untuk membuat prediksi menggunakan data uji (X_test).\n",
        "y_pred=sigmoid_svc.predict(X_test)\n",
        "\n",
        "\n",
        "# mencetak akurasi model dengan menggunakan metrik accuracy_score pada data uji dan prediksi yang dihasilkan dengan menggunakan kernel sigmoid dan parameter C=1.0.\n",
        "print('Model accuracy score with sigmoid kernel and C=1.0 : {0:0.4f}'. format(accuracy_score(y_test, y_pred)))"
      ]
    },
    {
      "cell_type": "code",
      "execution_count": 131,
      "metadata": {
        "colab": {
          "base_uri": "https://localhost:8080/"
        },
        "id": "0V00yFtTbws7",
        "outputId": "efc3f273-a864-4c20-fba2-18f0d21d0330"
      },
      "outputs": [
        {
          "output_type": "stream",
          "name": "stdout",
          "text": [
            "Model accuracy score with sigmoid kernel and C=100.0 : 0.8855\n"
          ]
        }
      ],
      "source": [
        "# instantiate classifier with sigmoid kernel and C=100.0\n",
        "sigmoid_svc100=SVC(kernel='sigmoid', C=100.0)\n",
        "\n",
        "\n",
        "# fit classifier to training set\n",
        "sigmoid_svc100.fit(X_train,y_train)\n",
        "\n",
        "\n",
        "# make predictions on test set\n",
        "y_pred=sigmoid_svc100.predict(X_test)\n",
        "\n",
        "\n",
        "# compute and print accuracy score\n",
        "print('Model accuracy score with sigmoid kernel and C=100.0 : {0:0.4f}'. format(accuracy_score(y_test, y_pred)))"
      ]
    },
    {
      "cell_type": "code",
      "execution_count": 132,
      "metadata": {
        "colab": {
          "base_uri": "https://localhost:8080/"
        },
        "id": "3Wy624okbymL",
        "outputId": "dcee259a-4bd7-47cd-8bf2-c9d33add450e"
      },
      "outputs": [
        {
          "output_type": "stream",
          "name": "stdout",
          "text": [
            "Confusion matrix\n",
            "\n",
            " [[3289   17]\n",
            " [  44  230]]\n",
            "\n",
            "True Positives(TP) =  3289\n",
            "\n",
            "True Negatives(TN) =  230\n",
            "\n",
            "False Positives(FP) =  17\n",
            "\n",
            "False Negatives(FN) =  44\n"
          ]
        }
      ],
      "source": [
        "# Print the Confusion Matrix and slice it into four pieces\n",
        "from sklearn.metrics import confusion_matrix\n",
        "\n",
        "#menghitung matriks kebingungan untuk data uji y_test dan prediksi yang dihasilkan y_pred_test.\n",
        "cm = confusion_matrix(y_test, y_pred_test)\n",
        "\n",
        "#mencetak matriks kebingungan untuk mengevaluasi kinerja model.\n",
        "print('Confusion matrix\\n\\n', cm)\n",
        "\n",
        "#mencetak jumlah true positives (TP), yang merupakan prediksi positif yang benar.\n",
        "print('\\nTrue Positives(TP) = ', cm[0,0])\n",
        "\n",
        "#mencetak jumlah true negatives (TN), yang merupakan prediksi negatif yang benar.\n",
        "print('\\nTrue Negatives(TN) = ', cm[1,1])\n",
        "\n",
        "#mencetak jumlah false positives (FP), yang merupakan prediksi positif yang salah.\n",
        "print('\\nFalse Positives(FP) = ', cm[0,1])\n",
        "\n",
        "#mencetak jumlah false negatives (FN), yang merupakan prediksi negatif yang salah.\n",
        "print('\\nFalse Negatives(FN) = ', cm[1,0])"
      ]
    },
    {
      "cell_type": "code",
      "execution_count": 134,
      "metadata": {
        "colab": {
          "base_uri": "https://localhost:8080/",
          "height": 452
        },
        "id": "CHgae5ebb1cL",
        "outputId": "88ee1dc8-8ec0-4c2f-bc2c-4cc8803ccb44"
      },
      "outputs": [
        {
          "output_type": "execute_result",
          "data": {
            "text/plain": [
              "<Axes: >"
            ]
          },
          "metadata": {},
          "execution_count": 134
        },
        {
          "output_type": "display_data",
          "data": {
            "text/plain": [
              "<Figure size 640x480 with 2 Axes>"
            ],
            "image/png": "[encoded data removed]"
          },
          "metadata": {}
        }
      ],
      "source": [
        "# visualize confusion matrix with seaborn heatmap\n",
        "#membuat DataFrame cm_matrix dari matriks kebingungan cm. Kolom dan baris DataFrame ini diberi label sesuai dengan kelas aktual dan prediksi.\n",
        "cm_matrix = pd.DataFrame(data=cm, columns=['Actual Positive:1', 'Actual Negative:0'],\n",
        "                                 index=['Predict Positive:1', 'Predict Negative:0'])\n",
        "\n",
        "#menggunakan seaborn untuk membuat peta panas (heatmap) dari DataFrame cm_matrix. Parameter annot=True menambahkan nilai di dalam sel, fmt='d' digunakan untuk menampilkan nilai sebagai integer, dan cmap='YlGnBu' menetapkan skema warna heatmap.\n",
        "sns.heatmap(cm_matrix, annot=True, fmt='d', cmap='YlGnBu')"
      ]
    },
    {
      "cell_type": "code",
      "execution_count": 135,
      "metadata": {
        "colab": {
          "base_uri": "https://localhost:8080/"
        },
        "id": "sYaun1_fb3ar",
        "outputId": "5960ee8d-6b9d-4ef8-bcb7-5382bc35879a"
      },
      "outputs": [
        {
          "output_type": "stream",
          "name": "stdout",
          "text": [
            "              precision    recall  f1-score   support\n",
            "\n",
            "           0       0.99      0.99      0.99      3306\n",
            "           1       0.93      0.84      0.88       274\n",
            "\n",
            "    accuracy                           0.98      3580\n",
            "   macro avg       0.96      0.92      0.94      3580\n",
            "weighted avg       0.98      0.98      0.98      3580\n",
            "\n"
          ]
        }
      ],
      "source": [
        "#mengimpor fungsi classification_report dari modul metrics di scikit-learn.\n",
        "from sklearn.metrics import classification_report\n",
        "# menghasilkan laporan klasifikasi yang menyediakan metrik evaluasi seperti presisi, recall, f1-score, dan dukungan untuk setiap kelas, serta nilai rata-rata dari semua kelas. Ini membantu dalam mengevaluasi kinerja model klasifikasi.\n",
        "print(classification_report(y_test, y_pred_test))"
      ]
    },
    {
      "cell_type": "code",
      "execution_count": 136,
      "metadata": {
        "id": "SPnzq2UIb5vT"
      },
      "outputs": [],
      "source": [
        "#digunakan untuk mendefinisikan variabel TP yang berisi jumlah true positives (TP).\n",
        "TP = cm[0,0]\n",
        "#digunakan untuk mendefinisikan variabel TN yang berisi jumlah true negatives (TN).\n",
        "TN = cm[1,1]\n",
        "#digunakan untuk mendefinisikan variabel FP yang berisi jumlah false positives (FP).\n",
        "FP = cm[0,1]\n",
        "#digunakan untuk mendefinisikan variabel FN yang berisi jumlah false negatives (FN).\n",
        "FN = cm[1,0]"
      ]
    },
    {
      "cell_type": "code",
      "execution_count": 137,
      "metadata": {
        "colab": {
          "base_uri": "https://localhost:8080/"
        },
        "id": "x9H58maxb-fL",
        "outputId": "1efa6fca-ccc5-45c7-92c5-ba81edd7f814"
      },
      "outputs": [
        {
          "output_type": "stream",
          "name": "stdout",
          "text": [
            "Classification accuracy : 0.9830\n"
          ]
        }
      ],
      "source": [
        "# print classification accuracy\n",
        "#menghitung akurasi klasifikasi, yang merupakan proporsi dari total prediksi yang benar terhadap keseluruhan prediksi.\n",
        "classification_accuracy = (TP + TN) / float(TP + TN + FP + FN)\n",
        "#mencetak nilai akurasi klasifikasi dengan format yang ditentukan. Pernyataan ini mencetak akurasi klasifikasi dengan empat angka di belakang koma.\n",
        "print('Classification accuracy : {0:0.4f}'.format(classification_accuracy))"
      ]
    },
    {
      "cell_type": "code",
      "execution_count": 138,
      "metadata": {
        "colab": {
          "base_uri": "https://localhost:8080/"
        },
        "id": "-24RVXzVcARU",
        "outputId": "1a83f83d-80b0-4e81-a253-d96b5af394eb"
      },
      "outputs": [
        {
          "output_type": "stream",
          "name": "stdout",
          "text": [
            "Classification error : 0.0170\n"
          ]
        }
      ],
      "source": [
        "# print classification error\n",
        "#menghitung error klasifikasi, yang merupakan proporsi dari total prediksi yang salah terhadap keseluruhan prediksi.\n",
        "classification_error = (FP + FN) / float(TP + TN + FP + FN)\n",
        "#mencetak nilai error klasifikasi dengan format yang ditentukan. Pernyataan ini mencetak error klasifikasi dengan empat angka di belakang koma.\n",
        "print('Classification error : {0:0.4f}'.format(classification_error))"
      ]
    },
    {
      "cell_type": "code",
      "execution_count": 140,
      "metadata": {
        "colab": {
          "base_uri": "https://localhost:8080/"
        },
        "id": "sLH9aZpecCHU",
        "outputId": "d65edd5b-74cc-4182-86fc-82ed8e1606f1"
      },
      "outputs": [
        {
          "output_type": "stream",
          "name": "stdout",
          "text": [
            "Precision : 0.9949\n"
          ]
        }
      ],
      "source": [
        "# print precision score\n",
        "#menghitung presisi, yang merupakan proporsi dari prediksi positif yang benar terhadap total prediksi positif yang dilakukan.\n",
        "precision = TP / float(TP + FP)\n",
        "#Pernyataan ini mencetak presisi dengan empat angka di belakang koma. Presisi mengukur seberapa akurat model dalam memprediksi positif.\n",
        "print('Precision : {0:0.4f}'.format(precision))"
      ]
    },
    {
      "cell_type": "code",
      "execution_count": 141,
      "metadata": {
        "colab": {
          "base_uri": "https://localhost:8080/"
        },
        "id": "BPhwWafkcDmr",
        "outputId": "7624b884-3f75-47fc-d63c-cb9b7d3b165c"
      },
      "outputs": [
        {
          "output_type": "stream",
          "name": "stdout",
          "text": [
            "Recall or Sensitivity : 0.9868\n"
          ]
        }
      ],
      "source": [
        "#menghitung recall atau sensitivitas, yang merupakan proporsi dari total kelas positif yang terdeteksi dengan benar oleh model terhadap keseluruhan kelas positif yang sebenarnya.\n",
        "recall = TP / float(TP + FN)\n",
        "#Pernyataan ini mencetak recall dengan empat angka di belakang koma. Recall memberikan gambaran tentang kemampuan model untuk mengidentifikasi kelas positif dengan benar.\n",
        "print('Recall or Sensitivity : {0:0.4f}'.format(recall))"
      ]
    },
    {
      "cell_type": "code",
      "execution_count": 142,
      "metadata": {
        "colab": {
          "base_uri": "https://localhost:8080/"
        },
        "id": "hsqABM_QcFKD",
        "outputId": "027cab1c-341b-4a03-e0cb-2cdf3172d020"
      },
      "outputs": [
        {
          "output_type": "stream",
          "name": "stdout",
          "text": [
            "True Positive Rate : 0.9868\n"
          ]
        }
      ],
      "source": [
        "#Pernyataan ini mencetak True Positive Rate dengan empat angka di belakang koma. True Positive Rate memberikan gambaran tentang kemampuan model untuk mengidentifikasi kelas positif dengan benar.\n",
        "true_positive_rate = TP / float(TP + FN)\n",
        "\n",
        "print('True Positive Rate : {0:0.4f}'.format(true_positive_rate))"
      ]
    },
    {
      "cell_type": "code",
      "execution_count": 143,
      "metadata": {
        "colab": {
          "base_uri": "https://localhost:8080/"
        },
        "id": "Gp2JpUD5cFw8",
        "outputId": "7bed98f1-bf35-4eb7-a023-2f07fdbbb4a8"
      },
      "outputs": [
        {
          "output_type": "stream",
          "name": "stdout",
          "text": [
            "False Positive Rate : 0.0688\n"
          ]
        }
      ],
      "source": [
        "#Pernyataan ini mencetak False Positive Rate dengan empat angka di belakang koma. False Positive Rate memberikan gambaran tentang seberapa sering model salah mengklasifikasikan kelas negatif sebagai positif.\n",
        "false_positive_rate = FP / float(FP + TN)\n",
        "\n",
        "print('False Positive Rate : {0:0.4f}'.format(false_positive_rate))"
      ]
    },
    {
      "cell_type": "code",
      "execution_count": 144,
      "metadata": {
        "colab": {
          "base_uri": "https://localhost:8080/"
        },
        "id": "m-J2EbP2cHGz",
        "outputId": "86813ef1-dddf-4a95-c8ef-af413422e8fd"
      },
      "outputs": [
        {
          "output_type": "stream",
          "name": "stdout",
          "text": [
            "Specificity : 0.9312\n"
          ]
        }
      ],
      "source": [
        "#Pernyataan ini mencetak Spesifisitas dengan empat angka di belakang koma. Spesifisitas memberikan gambaran tentang seberapa baik model dalam mengidentifikasi kelas negatif dengan benar.\n",
        "specificity = TN / (TN + FP)\n",
        "\n",
        "print('Specificity : {0:0.4f}'.format(specificity))"
      ]
    },
    {
      "cell_type": "code",
      "execution_count": 145,
      "metadata": {
        "colab": {
          "base_uri": "https://localhost:8080/",
          "height": 419
        },
        "id": "t4hGTrmocIvj",
        "outputId": "1cb652e6-0540-4346-ce7b-da308c6e260f"
      },
      "outputs": [
        {
          "output_type": "display_data",
          "data": {
            "text/plain": [
              "<Figure size 600x400 with 1 Axes>"
            ],
            "image/png": "[encoded data removed]"
          },
          "metadata": {}
        }
      ],
      "source": [
        "# plot ROC Curve\n",
        "\n",
        "from sklearn.metrics import roc_curve\n",
        "\n",
        "fpr, tpr, thresholds = roc_curve(y_test, y_pred_test)#menghitung nilai false positive rate (FPR), true positive rate (TPR), dan thresholds (ambang batas) menggunakan fungsi roc_curve untuk digunakan dalam plot ROC.\n",
        "\n",
        "plt.figure(figsize=(6,4))# membuat gambar plot dengan ukuran 6x4 inci.\n",
        "\n",
        "plt.plot(fpr, tpr, linewidth=2)#menggambar kurva ROC dengan false positive rate (FPR) sebagai sumbu x dan true positive rate (TPR) sebagai sumbu y.\n",
        "\n",
        "plt.plot([0,1], [0,1], 'k--' )#menggambar garis diagonal yang merupakan referensi untuk model yang benar-benar acak.\n",
        "\n",
        "plt.rcParams['font.size'] = 12\n",
        "\n",
        "plt.title('ROC curve for Predicting a Pulsar Star classifier')#judul\n",
        "\n",
        "plt.xlabel('False Positive Rate (1 - Specificity)')#label sumbu x\n",
        "\n",
        "plt.ylabel('True Positive Rate (Sensitivity)')#label sumbu y\n",
        "\n",
        "plt.show()#menampilkan plot ROC."
      ]
    },
    {
      "cell_type": "code",
      "execution_count": null,
      "metadata": {
        "colab": {
          "base_uri": "https://localhost:8080/"
        },
        "id": "D7ZkCxKQcLbj",
        "outputId": "e28c4189-fcb8-4272-ec7a-c22390f625dc"
      },
      "outputs": [
        {
          "name": "stdout",
          "output_type": "stream",
          "text": [
            "ROC AUC : 0.9171\n"
          ]
        }
      ],
      "source": [
        "# compute ROC AUC\n",
        "\n",
        "from sklearn.metrics import roc_auc_score\n",
        "\n",
        "ROC_AUC = roc_auc_score(y_test, y_pred_test)\n",
        "\n",
        "print('ROC AUC : {:.4f}'.format(ROC_AUC))"
      ]
    },
    {
      "cell_type": "code",
      "execution_count": 146,
      "metadata": {
        "colab": {
          "base_uri": "https://localhost:8080/"
        },
        "id": "pXb8kE5AcOQ7",
        "outputId": "b32f74c3-f94e-4c5f-f2df-ec1b22b04c08"
      },
      "outputs": [
        {
          "output_type": "stream",
          "name": "stdout",
          "text": [
            "Cross validated ROC AUC : 0.9756\n"
          ]
        }
      ],
      "source": [
        "# calculate cross-validated ROC AUC\n",
        "from sklearn.model_selection import cross_val_score\n",
        "\n",
        "# menghitung area di bawah kurva ROC (ROC AUC) menggunakan fungsi roc_auc_score.\n",
        "Cross_validated_ROC_AUC = cross_val_score(linear_svc, X_train, y_train, cv=10, scoring='roc_auc').mean()\n",
        "\n",
        "#mencetak ROC AUC dengan empat angka di belakang koma. ROC AUC memberikan ukuran keseluruhan kinerja model dalam membedakan kelas positif dan negatif. Semakin tinggi nilai ROC AUC, semakin baik kinerja model.\n",
        "print('Cross validated ROC AUC : {:.4f}'.format(Cross_validated_ROC_AUC))"
      ]
    },
    {
      "cell_type": "code",
      "execution_count": 147,
      "metadata": {
        "id": "8QNcxfw-cP9b"
      },
      "outputs": [],
      "source": [
        "#mengimpor kelas KFold dari modul model_selection di scikit-learn.\n",
        "from sklearn.model_selection import KFold\n",
        "\n",
        "#membuat objek KFold dengan jumlah lipatan (n_splits) sebanyak 5, pengacakan (shuffle) diaktifkan, dan keadaan acak (random_state) ditetapkan sebagai 0.\n",
        "kfold=KFold(n_splits=5, shuffle=True, random_state=0)\n",
        "\n",
        "#membuat objek SVC dengan kernel linear.\n",
        "linear_svc=SVC(kernel='linear')\n",
        "\n",
        "#melakukan validasi silang (cross-validation) menggunakan model SVC dengan kernel linear, data X, dan label y dengan menggunakan objek kfold yang telah dibuat sebelumnya. Hasil validasi silang disimpan dalam linear_scores.\n",
        "linear_scores = cross_val_score(linear_svc, X, y, cv=kfold)"
      ]
    },
    {
      "cell_type": "code",
      "execution_count": 148,
      "metadata": {
        "colab": {
          "base_uri": "https://localhost:8080/"
        },
        "id": "JuKxliM4cTPT",
        "outputId": "624fda05-ab4d-4201-c507-4179ffa0a993"
      },
      "outputs": [
        {
          "output_type": "stream",
          "name": "stdout",
          "text": [
            "Stratified cross-validation scores with linear kernel:\n",
            "\n",
            "[0.98296089 0.97458101 0.97988827 0.97876502 0.97848561]\n"
          ]
        }
      ],
      "source": [
        "# mencetak skor validasi silang untuk model dengan kernel linear. Hasil ini menunjukkan kinerja model pada setiap lipatan dalam validasi silang.\n",
        "\n",
        "print('Stratified cross-validation scores with linear kernel:\\n\\n{}'.format(linear_scores))"
      ]
    },
    {
      "cell_type": "code",
      "execution_count": 149,
      "metadata": {
        "colab": {
          "base_uri": "https://localhost:8080/"
        },
        "id": "OxcY4iiicUrT",
        "outputId": "d8f56cfc-c1f5-4f0a-bd13-d3b831f15dff"
      },
      "outputs": [
        {
          "output_type": "stream",
          "name": "stdout",
          "text": [
            "Average stratified cross-validation score with linear kernel:0.9789\n"
          ]
        }
      ],
      "source": [
        "# mencetak rata-rata skor validasi silang untuk model dengan kernel linear. Ini memberikan gambaran tentang kinerja model secara keseluruhan dalam validasi silang.\n",
        "\n",
        "print('Average stratified cross-validation score with linear kernel:{:.4f}'.format(linear_scores.mean()))"
      ]
    },
    {
      "cell_type": "code",
      "execution_count": 150,
      "metadata": {
        "id": "txUcm1v8cXHb"
      },
      "outputs": [],
      "source": [
        "#membuat objek SVC dengan kernel rbf (radial basis function).\n",
        "rbf_svc=SVC(kernel='rbf')\n",
        "\n",
        "#melakukan validasi silang (cross-validation) menggunakan model SVC dengan kernel rbf, data X, dan label y dengan menggunakan objek kfold yang telah dibuat sebelumnya. Hasil validasi silang disimpan dalam rbf_scores.\n",
        "rbf_scores = cross_val_score(rbf_svc, X, y, cv=kfold)"
      ]
    },
    {
      "cell_type": "code",
      "execution_count": 151,
      "metadata": {
        "colab": {
          "base_uri": "https://localhost:8080/"
        },
        "id": "Iw6dEJnccX9i",
        "outputId": "ca1eb11e-81ff-4d92-c844-e049a51f40df"
      },
      "outputs": [
        {
          "output_type": "stream",
          "name": "stdout",
          "text": [
            "Stratified Cross-validation scores with rbf kernel:\n",
            "\n",
            "[0.97849162 0.97011173 0.97318436 0.9709416  0.96982397]\n"
          ]
        }
      ],
      "source": [
        "# mencetak skor validasi silang untuk model dengan kernel rbf. Hasil ini menunjukkan kinerja model pada setiap lipatan dalam validasi silang.\n",
        "\n",
        "print('Stratified Cross-validation scores with rbf kernel:\\n\\n{}'.format(rbf_scores))"
      ]
    },
    {
      "cell_type": "code",
      "execution_count": 152,
      "metadata": {
        "colab": {
          "base_uri": "https://localhost:8080/"
        },
        "id": "lLevnI_fcZWy",
        "outputId": "f376d280-c5bf-444b-c4f4-69715618ff17"
      },
      "outputs": [
        {
          "output_type": "stream",
          "name": "stdout",
          "text": [
            "Average stratified cross-validation score with rbf kernel:0.9725\n"
          ]
        }
      ],
      "source": [
        "# mencetak rata-rata skor validasi silang untuk model dengan kernel rbf. Ini memberikan gambaran tentang kinerja model secara keseluruhan dalam validasi silang.\n",
        "\n",
        "print('Average stratified cross-validation score with rbf kernel:{:.4f}'.format(rbf_scores.mean()))"
      ]
    },
    {
      "cell_type": "code",
      "execution_count": 154,
      "metadata": {
        "colab": {
          "base_uri": "https://localhost:8080/",
          "height": 117
        },
        "id": "zvdEkMRwcblz",
        "outputId": "060c605b-cd30-43c4-e9a3-00f7b0e9fc34"
      },
      "outputs": [
        {
          "output_type": "execute_result",
          "data": {
            "text/plain": [
              "GridSearchCV(cv=5, estimator=SVC(),\n",
              "             param_grid=[{'C': [1, 10, 100, 1000], 'kernel': ['linear']},\n",
              "                         {'C': [1, 10, 100, 1000],\n",
              "                          'gamma': [0.1, 0.2, 0.3, 0.4, 0.5, 0.6, 0.7, 0.8,\n",
              "                                    0.9],\n",
              "                          'kernel': ['rbf']},\n",
              "                         {'C': [1, 10, 100, 1000], 'degree': [2, 3, 4],\n",
              "                          'gamma': [0.01, 0.02, 0.03, 0.04, 0.05],\n",
              "                          'kernel': ['poly']}],\n",
              "             scoring='accuracy')"
            ],
            "text/html": [
              "<style>#sk-container-id-1 {color: black;background-color: white;}#sk-container-id-1 pre{padding: 0;}#sk-container-id-1 div.sk-toggleable {background-color: white;}#sk-container-id-1 label.sk-toggleable__label {cursor: pointer;display: block;width: 100%;margin-bottom: 0;padding: 0.3em;box-sizing: border-box;text-align: center;}#sk-container-id-1 label.sk-toggleable__label-arrow:before {content: \"▸\";float: left;margin-right: 0.25em;color: #696969;}#sk-container-id-1 label.sk-toggleable__label-arrow:hover:before {color: black;}#sk-container-id-1 div.sk-estimator:hover label.sk-toggleable__label-arrow:before {color: black;}#sk-container-id-1 div.sk-toggleable__content {max-height: 0;max-width: 0;overflow: hidden;text-align: left;background-color: #f0f8ff;}#sk-container-id-1 div.sk-toggleable__content pre {margin: 0.2em;color: black;border-radius: 0.25em;background-color: #f0f8ff;}#sk-container-id-1 input.sk-toggleable__control:checked~div.sk-toggleable__content {max-height: 200px;max-width: 100%;overflow: auto;}#sk-container-id-1 input.sk-toggleable__control:checked~label.sk-toggleable__label-arrow:before {content: \"▾\";}#sk-container-id-1 div.sk-estimator input.sk-toggleable__control:checked~label.sk-toggleable__label {background-color: #d4ebff;}#sk-container-id-1 div.sk-label input.sk-toggleable__control:checked~label.sk-toggleable__label {background-color: #d4ebff;}#sk-container-id-1 input.sk-hidden--visually {border: 0;clip: rect(1px 1px 1px 1px);clip: rect(1px, 1px, 1px, 1px);height: 1px;margin: -1px;overflow: hidden;padding: 0;position: absolute;width: 1px;}#sk-container-id-1 div.sk-estimator {font-family: monospace;background-color: #f0f8ff;border: 1px dotted black;border-radius: 0.25em;box-sizing: border-box;margin-bottom: 0.5em;}#sk-container-id-1 div.sk-estimator:hover {background-color: #d4ebff;}#sk-container-id-1 div.sk-parallel-item::after {content: \"\";width: 100%;border-bottom: 1px solid gray;flex-grow: 1;}#sk-container-id-1 div.sk-label:hover label.sk-toggleable__label {background-color: #d4ebff;}#sk-container-id-1 div.sk-serial::before {content: \"\";position: absolute;border-left: 1px solid gray;box-sizing: border-box;top: 0;bottom: 0;left: 50%;z-index: 0;}#sk-container-id-1 div.sk-serial {display: flex;flex-direction: column;align-items: center;background-color: white;padding-right: 0.2em;padding-left: 0.2em;position: relative;}#sk-container-id-1 div.sk-item {position: relative;z-index: 1;}#sk-container-id-1 div.sk-parallel {display: flex;align-items: stretch;justify-content: center;background-color: white;position: relative;}#sk-container-id-1 div.sk-item::before, #sk-container-id-1 div.sk-parallel-item::before {content: \"\";position: absolute;border-left: 1px solid gray;box-sizing: border-box;top: 0;bottom: 0;left: 50%;z-index: -1;}#sk-container-id-1 div.sk-parallel-item {display: flex;flex-direction: column;z-index: 1;position: relative;background-color: white;}#sk-container-id-1 div.sk-parallel-item:first-child::after {align-self: flex-end;width: 50%;}#sk-container-id-1 div.sk-parallel-item:last-child::after {align-self: flex-start;width: 50%;}#sk-container-id-1 div.sk-parallel-item:only-child::after {width: 0;}#sk-container-id-1 div.sk-dashed-wrapped {border: 1px dashed gray;margin: 0 0.4em 0.5em 0.4em;box-sizing: border-box;padding-bottom: 0.4em;background-color: white;}#sk-container-id-1 div.sk-label label {font-family: monospace;font-weight: bold;display: inline-block;line-height: 1.2em;}#sk-container-id-1 div.sk-label-container {text-align: center;}#sk-container-id-1 div.sk-container {/* jupyter's `normalize.less` sets `[hidden] { display: none; }` but bootstrap.min.css set `[hidden] { display: none !important; }` so we also need the `!important` here to be able to override the default hidden behavior on the sphinx rendered scikit-learn.org. See: https://github.com/scikit-learn/scikit-learn/issues/21755 */display: inline-block !important;position: relative;}#sk-container-id-1 div.sk-text-repr-fallback {display: none;}</style><div id=\"sk-container-id-1\" class=\"sk-top-container\"><div class=\"sk-text-repr-fallback\"><pre>GridSearchCV(cv=5, estimator=SVC(),\n",
              "             param_grid=[{&#x27;C&#x27;: [1, 10, 100, 1000], &#x27;kernel&#x27;: [&#x27;linear&#x27;]},\n",
              "                         {&#x27;C&#x27;: [1, 10, 100, 1000],\n",
              "                          &#x27;gamma&#x27;: [0.1, 0.2, 0.3, 0.4, 0.5, 0.6, 0.7, 0.8,\n",
              "                                    0.9],\n",
              "                          &#x27;kernel&#x27;: [&#x27;rbf&#x27;]},\n",
              "                         {&#x27;C&#x27;: [1, 10, 100, 1000], &#x27;degree&#x27;: [2, 3, 4],\n",
              "                          &#x27;gamma&#x27;: [0.01, 0.02, 0.03, 0.04, 0.05],\n",
              "                          &#x27;kernel&#x27;: [&#x27;poly&#x27;]}],\n",
              "             scoring=&#x27;accuracy&#x27;)</pre><b>In a Jupyter environment, please rerun this cell to show the HTML representation or trust the notebook. <br />On GitHub, the HTML representation is unable to render, please try loading this page with nbviewer.org.</b></div><div class=\"sk-container\" hidden><div class=\"sk-item sk-dashed-wrapped\"><div class=\"sk-label-container\"><div class=\"sk-label sk-toggleable\"><input class=\"sk-toggleable__control sk-hidden--visually\" id=\"sk-estimator-id-1\" type=\"checkbox\" ><label for=\"sk-estimator-id-1\" class=\"sk-toggleable__label sk-toggleable__label-arrow\">GridSearchCV</label><div class=\"sk-toggleable__content\"><pre>GridSearchCV(cv=5, estimator=SVC(),\n",
              "             param_grid=[{&#x27;C&#x27;: [1, 10, 100, 1000], &#x27;kernel&#x27;: [&#x27;linear&#x27;]},\n",
              "                         {&#x27;C&#x27;: [1, 10, 100, 1000],\n",
              "                          &#x27;gamma&#x27;: [0.1, 0.2, 0.3, 0.4, 0.5, 0.6, 0.7, 0.8,\n",
              "                                    0.9],\n",
              "                          &#x27;kernel&#x27;: [&#x27;rbf&#x27;]},\n",
              "                         {&#x27;C&#x27;: [1, 10, 100, 1000], &#x27;degree&#x27;: [2, 3, 4],\n",
              "                          &#x27;gamma&#x27;: [0.01, 0.02, 0.03, 0.04, 0.05],\n",
              "                          &#x27;kernel&#x27;: [&#x27;poly&#x27;]}],\n",
              "             scoring=&#x27;accuracy&#x27;)</pre></div></div></div><div class=\"sk-parallel\"><div class=\"sk-parallel-item\"><div class=\"sk-item\"><div class=\"sk-label-container\"><div class=\"sk-label sk-toggleable\"><input class=\"sk-toggleable__control sk-hidden--visually\" id=\"sk-estimator-id-2\" type=\"checkbox\" ><label for=\"sk-estimator-id-2\" class=\"sk-toggleable__label sk-toggleable__label-arrow\">estimator: SVC</label><div class=\"sk-toggleable__content\"><pre>SVC()</pre></div></div></div><div class=\"sk-serial\"><div class=\"sk-item\"><div class=\"sk-estimator sk-toggleable\"><input class=\"sk-toggleable__control sk-hidden--visually\" id=\"sk-estimator-id-3\" type=\"checkbox\" ><label for=\"sk-estimator-id-3\" class=\"sk-toggleable__label sk-toggleable__label-arrow\">SVC</label><div class=\"sk-toggleable__content\"><pre>SVC()</pre></div></div></div></div></div></div></div></div></div></div>"
            ]
          },
          "metadata": {},
          "execution_count": 154
        }
      ],
      "source": [
        "# import GridSearchCV\n",
        "#GridSearchCV digunakan untuk melakukan pencarian parameter terbaik untuk model menggunakan metode grid search.\n",
        "from sklearn.model_selection import GridSearchCV\n",
        "\n",
        "\n",
        "# import SVC classifier\n",
        "from sklearn.svm import SVC\n",
        "\n",
        "\n",
        "# instantiate classifier with default hyperparameters with kernel=rbf, C=1.0 and gamma=auto\n",
        "svc=SVC()\n",
        "\n",
        "\n",
        "\n",
        "# declare parameters for hyperparameter tuning\n",
        "parameters = [ {'C':[1, 10, 100, 1000], 'kernel':['linear']},\n",
        "               {'C':[1, 10, 100, 1000], 'kernel':['rbf'], 'gamma':[0.1, 0.2, 0.3, 0.4, 0.5, 0.6, 0.7, 0.8, 0.9]},\n",
        "               {'C':[1, 10, 100, 1000], 'kernel':['poly'], 'degree': [2,3,4] ,'gamma':[0.01,0.02,0.03,0.04,0.05]}\n",
        "              ]\n",
        "\n",
        "\n",
        "\n",
        "# membuat objek GridSearchCV untuk mencari parameter terbaik untuk model SVC.\n",
        "#estimator adalah model yang akan dioptimalkan.\n",
        "#param_grid adalah himpunan parameter yang akan dieksplorasi\n",
        "#scoring adalah metrik yang akan dievaluasi\n",
        "#cv adalah jumlah lipatan dalam validasi silang\n",
        "#verbose mengontrol keberagaman keluaran.\n",
        "grid_search = GridSearchCV(estimator = svc,\n",
        "                           param_grid = parameters,\n",
        "                           scoring = 'accuracy',\n",
        "                           cv = 5,\n",
        "                           verbose=0)\n",
        "\n",
        "#melakukan pencarian grid pada data pelatihan X_train dan label pelatihan y_train, sehingga mendapatkan parameter terbaik untuk model SVC.\n",
        "grid_search.fit(X_train, y_train)"
      ]
    },
    {
      "cell_type": "code",
      "execution_count": 155,
      "metadata": {
        "colab": {
          "base_uri": "https://localhost:8080/"
        },
        "id": "QIF2vNGmceGT",
        "outputId": "987bebae-831c-4e4d-8930-957603d9fcc3"
      },
      "outputs": [
        {
          "output_type": "stream",
          "name": "stdout",
          "text": [
            "GridSearch CV best score : 0.9793\n",
            "\n",
            "\n",
            "Parameters that give the best results : \n",
            "\n",
            " {'C': 10, 'gamma': 0.3, 'kernel': 'rbf'}\n",
            "\n",
            "\n",
            "Estimator that was chosen by the search : \n",
            "\n",
            " SVC(C=10, gamma=0.3)\n"
          ]
        }
      ],
      "source": [
        "# examine the best model\n",
        "\n",
        "\n",
        "# mencetak skor terbaik yang dicapai oleh model selama pencarian grid.\n",
        "print('GridSearch CV best score : {:.4f}\\n\\n'.format(grid_search.best_score_))\n",
        "\n",
        "\n",
        "# mencetak parameter yang memberikan hasil terbaik selama pencarian grid.\n",
        "print('Parameters that give the best results :','\\n\\n', (grid_search.best_params_))\n",
        "\n",
        "\n",
        "# mencetak estimator yang dipilih oleh pencarian grid berdasarkan parameter terbaik yang ditemukan.\n",
        "print('\\n\\nEstimator that was chosen by the search :','\\n\\n', (grid_search.best_estimator_))"
      ]
    },
    {
      "cell_type": "code",
      "execution_count": 156,
      "metadata": {
        "colab": {
          "base_uri": "https://localhost:8080/"
        },
        "id": "-b9fWCnicgLD",
        "outputId": "6bd5067b-09c3-4027-cb77-a116194c61e2"
      },
      "outputs": [
        {
          "output_type": "stream",
          "name": "stdout",
          "text": [
            "GridSearch CV score on test set: 0.9835\n"
          ]
        }
      ],
      "source": [
        "# mencetak skor hasil pencarian grid pada data pengujian (X_test) dan label pengujian (y_test). Skor ini mengukur kinerja model yang dioptimalkan menggunakan parameter terbaik pada data pengujian.\n",
        "print('GridSearch CV score on test set: {0:0.4f}'.format(grid_search.score(X_test, y_test)))"
      ]
    },
    {
      "cell_type": "code",
      "execution_count": null,
      "metadata": {
        "id": "_3X6cIbXch48"
      },
      "outputs": [],
      "source": []
    }
  ],
  "metadata": {
    "colab": {
      "provenance": []
    },
    "kernelspec": {
      "display_name": "Python 3",
      "name": "python3"
    },
    "language_info": {
      "name": "python"
    }
  },
  "nbformat": 4,
  "nbformat_minor": 0
}